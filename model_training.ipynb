{
  "cells": [
    {
      "cell_type": "markdown",
      "source": [
        "# **Simulateur Intelligent d’Évaluation Immobilière**\n"
      ],
      "metadata": {
        "id": "tiwKIADtJ8s6"
      }
    },
    {
      "cell_type": "code",
      "execution_count": 1,
      "metadata": {
        "id": "kMR2a4ITj2s4"
      },
      "outputs": [],
      "source": [
        "import pandas as pd\n",
        "import numpy as np\n",
        "import matplotlib.pyplot as plt\n",
        "import seaborn as sns"
      ]
    },
    {
      "cell_type": "markdown",
      "source": [
        "# Chargement et Analyse Exploratoire des Données"
      ],
      "metadata": {
        "id": "MUoKA52jKTwl"
      }
    },
    {
      "cell_type": "markdown",
      "source": [
        "\n",
        "- Charger les données avec `pandas`.\n"
      ],
      "metadata": {
        "id": "jm4p3rLiM5XU"
      }
    },
    {
      "cell_type": "code",
      "execution_count": 2,
      "metadata": {
        "id": "FnTUhdgylg2g"
      },
      "outputs": [],
      "source": [
        "df=pd.read_csv(\"appartements.csv\")"
      ]
    },
    {
      "cell_type": "markdown",
      "source": [
        "- Affiche les types de variables, le nombre de valeurs non nulles par colonne et l’espace mémoire utilisé."
      ],
      "metadata": {
        "id": "wSzR6nhXNCu_"
      }
    },
    {
      "cell_type": "code",
      "execution_count": 3,
      "metadata": {
        "colab": {
          "base_uri": "https://localhost:8080/"
        },
        "id": "y5fjYZe7ljET",
        "outputId": "2e123fd0-abc3-4625-f5e2-f1002bd786f1"
      },
      "outputs": [
        {
          "output_type": "stream",
          "name": "stdout",
          "text": [
            "<class 'pandas.core.frame.DataFrame'>\n",
            "RangeIndex: 1773 entries, 0 to 1772\n",
            "Data columns (total 9 columns):\n",
            " #   Column        Non-Null Count  Dtype  \n",
            "---  ------        --------------  -----  \n",
            " 0   title         1772 non-null   object \n",
            " 1   price         1490 non-null   object \n",
            " 2   city_name     1772 non-null   object \n",
            " 3   salon         1620 non-null   float64\n",
            " 4   nb_rooms      1490 non-null   float64\n",
            " 5   nb_baths      1480 non-null   float64\n",
            " 6   surface_area  1742 non-null   float64\n",
            " 7   equipment     1402 non-null   object \n",
            " 8   link          1773 non-null   object \n",
            "dtypes: float64(4), object(5)\n",
            "memory usage: 124.8+ KB\n",
            "None\n"
          ]
        }
      ],
      "source": [
        "print(df.info())"
      ]
    },
    {
      "cell_type": "markdown",
      "source": [
        "- Affiche les 5 premières lignes du DataFrame pour avoir un aperçu rapide des données."
      ],
      "metadata": {
        "id": "iLOWjehkOuf_"
      }
    },
    {
      "cell_type": "code",
      "execution_count": 4,
      "metadata": {
        "colab": {
          "base_uri": "https://localhost:8080/"
        },
        "id": "bJla2W9IllM2",
        "outputId": "adf82d29-c2fe-4441-b524-698514b23935"
      },
      "outputs": [
        {
          "output_type": "stream",
          "name": "stdout",
          "text": [
            "                                               title         price  \\\n",
            "0       CMN-MA-1752 - Appartement à vendre à Palmier  2 000 000 DH   \n",
            "1  66370-Vente Appt à Casablanca Hay Hassani de 1...  1 195 000 DH   \n",
            "2           Appartement à vendre 81 m² à Dar Bouazza  1 350 000 DH   \n",
            "3  63860-Vente Appt à Casablanca Quartier Bd Med ...    900 000 DH   \n",
            "4                          Appartement à Rabat Agdal  3 100 000 DH   \n",
            "\n",
            "     city_name  salon  nb_rooms  nb_baths  surface_area  \\\n",
            "0   Casablanca    NaN       2.0       2.0         168.0   \n",
            "1   Casablanca    NaN       2.0       2.0          98.0   \n",
            "2  Dar Bouazza    1.0       2.0       2.0          81.0   \n",
            "3   Casablanca    NaN       1.0       1.0          56.0   \n",
            "4        Rabat    2.0       3.0       2.0         200.0   \n",
            "\n",
            "                                           equipment  \\\n",
            "0                  Ascenseur/Balcon/Parking/Terrasse   \n",
            "1  Ascenseur/Balcon/Chauffage/Climatisation/Cuisi...   \n",
            "2  Ascenseur/Balcon/Chauffage/Climatisation/Conci...   \n",
            "3  Ascenseur/Chauffage/Climatisation/Cuisine Équi...   \n",
            "4        Ascenseur/Balcon/Concierge/Parking/Sécurité   \n",
            "\n",
            "                                                link  \n",
            "0  https://www.avito.ma/fr/palmier/appartements/C...  \n",
            "1  https://www.avito.ma/fr/hay_hassani/appartemen...  \n",
            "2  https://www.avito.ma/fr/dar_bouazza/appartemen...  \n",
            "3  https://www.avito.ma/fr/centre_ville/apparteme...  \n",
            "4  https://www.avito.ma/fr/agdal/appartements/App...  \n"
          ]
        }
      ],
      "source": [
        "print(df.head())"
      ]
    },
    {
      "cell_type": "markdown",
      "source": [
        "## Comprendre la structure générale du jeu de **données**"
      ],
      "metadata": {
        "id": "Lz82jB-wLdxp"
      }
    },
    {
      "cell_type": "markdown",
      "source": [
        "-  Afficher  le types de chaque colonnes des donnés"
      ],
      "metadata": {
        "id": "dDKsP_AZN9Xr"
      }
    },
    {
      "cell_type": "code",
      "source": [
        "print(df.dtypes)"
      ],
      "metadata": {
        "colab": {
          "base_uri": "https://localhost:8080/"
        },
        "id": "e9ctwMKs9Sjb",
        "outputId": "6e3085a3-474d-41b9-cb9a-3e316343d133"
      },
      "execution_count": 5,
      "outputs": [
        {
          "output_type": "stream",
          "name": "stdout",
          "text": [
            "title            object\n",
            "price            object\n",
            "city_name        object\n",
            "salon           float64\n",
            "nb_rooms        float64\n",
            "nb_baths        float64\n",
            "surface_area    float64\n",
            "equipment        object\n",
            "link             object\n",
            "dtype: object\n"
          ]
        }
      ]
    },
    {
      "cell_type": "markdown",
      "source": [
        "- Dimensions du jeu de données(colonnes,lines)\n"
      ],
      "metadata": {
        "id": "2YcHh5X1OOiY"
      }
    },
    {
      "cell_type": "code",
      "source": [
        "print(\"Dimensions du jeu de données :\", df.shape)"
      ],
      "metadata": {
        "colab": {
          "base_uri": "https://localhost:8080/"
        },
        "id": "L8r_Akec9MPw",
        "outputId": "4c1586a4-2d24-4a29-f0e5-62b82a31e394"
      },
      "execution_count": 6,
      "outputs": [
        {
          "output_type": "stream",
          "name": "stdout",
          "text": [
            "Dimensions du jeu de données : (1773, 9)\n"
          ]
        }
      ]
    },
    {
      "cell_type": "markdown",
      "source": [
        "- Liste tous les noms de colonnes du DataFrame."
      ],
      "metadata": {
        "id": "XL2mqTrjPL8N"
      }
    },
    {
      "cell_type": "code",
      "execution_count": 7,
      "metadata": {
        "colab": {
          "base_uri": "https://localhost:8080/"
        },
        "id": "_GkA-_PjlsQ6",
        "outputId": "211ec88c-899e-4d46-e3a2-4c454cdb8372"
      },
      "outputs": [
        {
          "output_type": "stream",
          "name": "stdout",
          "text": [
            "Index(['title', 'price', 'city_name', 'salon', 'nb_rooms', 'nb_baths',\n",
            "       'surface_area', 'equipment', 'link'],\n",
            "      dtype='object')\n"
          ]
        }
      ],
      "source": [
        "print(df.columns)"
      ]
    },
    {
      "cell_type": "markdown",
      "source": [
        "-  identifier la somme des valeurs manquantes dans chaque colonne"
      ],
      "metadata": {
        "id": "hqXb4TiDPXEr"
      }
    },
    {
      "cell_type": "code",
      "source": [
        "print(df.isnull().sum())"
      ],
      "metadata": {
        "colab": {
          "base_uri": "https://localhost:8080/"
        },
        "id": "L5CRSvPm9m5V",
        "outputId": "1114315a-0b3e-48c7-d3e9-f2806894d834"
      },
      "execution_count": 8,
      "outputs": [
        {
          "output_type": "stream",
          "name": "stdout",
          "text": [
            "title             1\n",
            "price           283\n",
            "city_name         1\n",
            "salon           153\n",
            "nb_rooms        283\n",
            "nb_baths        293\n",
            "surface_area     31\n",
            "equipment       371\n",
            "link              0\n",
            "dtype: int64\n"
          ]
        }
      ]
    },
    {
      "cell_type": "markdown",
      "source": [
        "- Identifier les valeurs doublons\n",
        "- le nombre total de doublons"
      ],
      "metadata": {
        "id": "6l7GzgoxP4RF"
      }
    },
    {
      "cell_type": "code",
      "source": [
        "print(df.duplicated())\n",
        "print('le nombre total de doublons:',df.duplicated().sum())"
      ],
      "metadata": {
        "colab": {
          "base_uri": "https://localhost:8080/"
        },
        "id": "oykaj831-0x-",
        "outputId": "bb53c43a-0a65-495c-f4df-b5ca05e72c3d"
      },
      "execution_count": 9,
      "outputs": [
        {
          "output_type": "stream",
          "name": "stdout",
          "text": [
            "0       False\n",
            "1       False\n",
            "2       False\n",
            "3       False\n",
            "4       False\n",
            "        ...  \n",
            "1768    False\n",
            "1769    False\n",
            "1770    False\n",
            "1771     True\n",
            "1772     True\n",
            "Length: 1773, dtype: bool\n",
            "le nombre total de doublons: 41\n"
          ]
        }
      ]
    },
    {
      "cell_type": "markdown",
      "source": [
        "- Supprimer les doublons"
      ],
      "metadata": {
        "id": "TIFtXIVYQVN3"
      }
    },
    {
      "cell_type": "code",
      "source": [
        "df.drop_duplicates()"
      ],
      "metadata": {
        "colab": {
          "base_uri": "https://localhost:8080/",
          "height": 912
        },
        "id": "ehwescFNB5v_",
        "outputId": "3e04d7a0-3ded-4d10-bc4e-23b9bf2ef860"
      },
      "execution_count": 10,
      "outputs": [
        {
          "output_type": "execute_result",
          "data": {
            "text/plain": [
              "                                                  title         price  \\\n",
              "0          CMN-MA-1752 - Appartement à vendre à Palmier  2 000 000 DH   \n",
              "1     66370-Vente Appt à Casablanca Hay Hassani de 1...  1 195 000 DH   \n",
              "2              Appartement à vendre 81 m² à Dar Bouazza  1 350 000 DH   \n",
              "3     63860-Vente Appt à Casablanca Quartier Bd Med ...    900 000 DH   \n",
              "4                             Appartement à Rabat Agdal  3 100 000 DH   \n",
              "...                                                 ...           ...   \n",
              "1766                               Appartement location      3 500 DH   \n",
              "1767                          appartement 4 minutes tgv    700 000 DH   \n",
              "1768                Appartement à vendre 62 m² à Agadir           NaN   \n",
              "1769                        Appartement 110 m² à Agadir           NaN   \n",
              "1770             Appartement à vendre 12000 m² à Temara           NaN   \n",
              "\n",
              "        city_name  salon  nb_rooms  nb_baths  surface_area  \\\n",
              "0      Casablanca    NaN       2.0       2.0         168.0   \n",
              "1      Casablanca    NaN       2.0       2.0          98.0   \n",
              "2     Dar Bouazza    1.0       2.0       2.0          81.0   \n",
              "3      Casablanca    NaN       1.0       1.0          56.0   \n",
              "4           Rabat    2.0       3.0       2.0         200.0   \n",
              "...           ...    ...       ...       ...           ...   \n",
              "1766      Tétouan    1.0       2.0       2.0          85.0   \n",
              "1767       Tanger    1.0       2.0       1.0          70.0   \n",
              "1768       Agadir    1.0       NaN       NaN          62.0   \n",
              "1769       Agadir    2.0       NaN       NaN         110.0   \n",
              "1770       Temara    2.0       NaN       NaN       12000.0   \n",
              "\n",
              "                                              equipment  \\\n",
              "0                     Ascenseur/Balcon/Parking/Terrasse   \n",
              "1     Ascenseur/Balcon/Chauffage/Climatisation/Cuisi...   \n",
              "2     Ascenseur/Balcon/Chauffage/Climatisation/Conci...   \n",
              "3     Ascenseur/Chauffage/Climatisation/Cuisine Équi...   \n",
              "4           Ascenseur/Balcon/Concierge/Parking/Sécurité   \n",
              "...                                                 ...   \n",
              "1766   Ascenseur/Balcon/Cuisine Équipée/Meublé/Sécurité   \n",
              "1767                                   Ascenseur/Balcon   \n",
              "1768  Ascenseur/Balcon/Cuisine Équipée/Parking/Sécurité   \n",
              "1769                                  Ascenseur/Parking   \n",
              "1770                  Ascenseur/Balcon/Parking/Sécurité   \n",
              "\n",
              "                                                   link  \n",
              "0     https://www.avito.ma/fr/palmier/appartements/C...  \n",
              "1     https://www.avito.ma/fr/hay_hassani/appartemen...  \n",
              "2     https://www.avito.ma/fr/dar_bouazza/appartemen...  \n",
              "3     https://www.avito.ma/fr/centre_ville/apparteme...  \n",
              "4     https://www.avito.ma/fr/agdal/appartements/App...  \n",
              "...                                                 ...  \n",
              "1766  https://www.avito.ma/fr/el_mdrassi/appartement...  \n",
              "1767  https://www.avito.ma/fr/tanja_balia/appartemen...  \n",
              "1768  https://www.avito.ma/fr/cit%C3%A9_adrar/appart...  \n",
              "1769  https://www.avito.ma/fr/av_des_far/appartement...  \n",
              "1770  https://www.avito.ma/fr/massira_2/appartements...  \n",
              "\n",
              "[1732 rows x 9 columns]"
            ],
            "text/html": [
              "\n",
              "  <div id=\"df-b3080d4a-2767-4122-be00-995c48595eae\" class=\"colab-df-container\">\n",
              "    <div>\n",
              "<style scoped>\n",
              "    .dataframe tbody tr th:only-of-type {\n",
              "        vertical-align: middle;\n",
              "    }\n",
              "\n",
              "    .dataframe tbody tr th {\n",
              "        vertical-align: top;\n",
              "    }\n",
              "\n",
              "    .dataframe thead th {\n",
              "        text-align: right;\n",
              "    }\n",
              "</style>\n",
              "<table border=\"1\" class=\"dataframe\">\n",
              "  <thead>\n",
              "    <tr style=\"text-align: right;\">\n",
              "      <th></th>\n",
              "      <th>title</th>\n",
              "      <th>price</th>\n",
              "      <th>city_name</th>\n",
              "      <th>salon</th>\n",
              "      <th>nb_rooms</th>\n",
              "      <th>nb_baths</th>\n",
              "      <th>surface_area</th>\n",
              "      <th>equipment</th>\n",
              "      <th>link</th>\n",
              "    </tr>\n",
              "  </thead>\n",
              "  <tbody>\n",
              "    <tr>\n",
              "      <th>0</th>\n",
              "      <td>CMN-MA-1752 - Appartement à vendre à Palmier</td>\n",
              "      <td>2 000 000 DH</td>\n",
              "      <td>Casablanca</td>\n",
              "      <td>NaN</td>\n",
              "      <td>2.0</td>\n",
              "      <td>2.0</td>\n",
              "      <td>168.0</td>\n",
              "      <td>Ascenseur/Balcon/Parking/Terrasse</td>\n",
              "      <td>https://www.avito.ma/fr/palmier/appartements/C...</td>\n",
              "    </tr>\n",
              "    <tr>\n",
              "      <th>1</th>\n",
              "      <td>66370-Vente Appt à Casablanca Hay Hassani de 1...</td>\n",
              "      <td>1 195 000 DH</td>\n",
              "      <td>Casablanca</td>\n",
              "      <td>NaN</td>\n",
              "      <td>2.0</td>\n",
              "      <td>2.0</td>\n",
              "      <td>98.0</td>\n",
              "      <td>Ascenseur/Balcon/Chauffage/Climatisation/Cuisi...</td>\n",
              "      <td>https://www.avito.ma/fr/hay_hassani/appartemen...</td>\n",
              "    </tr>\n",
              "    <tr>\n",
              "      <th>2</th>\n",
              "      <td>Appartement à vendre 81 m² à Dar Bouazza</td>\n",
              "      <td>1 350 000 DH</td>\n",
              "      <td>Dar Bouazza</td>\n",
              "      <td>1.0</td>\n",
              "      <td>2.0</td>\n",
              "      <td>2.0</td>\n",
              "      <td>81.0</td>\n",
              "      <td>Ascenseur/Balcon/Chauffage/Climatisation/Conci...</td>\n",
              "      <td>https://www.avito.ma/fr/dar_bouazza/appartemen...</td>\n",
              "    </tr>\n",
              "    <tr>\n",
              "      <th>3</th>\n",
              "      <td>63860-Vente Appt à Casablanca Quartier Bd Med ...</td>\n",
              "      <td>900 000 DH</td>\n",
              "      <td>Casablanca</td>\n",
              "      <td>NaN</td>\n",
              "      <td>1.0</td>\n",
              "      <td>1.0</td>\n",
              "      <td>56.0</td>\n",
              "      <td>Ascenseur/Chauffage/Climatisation/Cuisine Équi...</td>\n",
              "      <td>https://www.avito.ma/fr/centre_ville/apparteme...</td>\n",
              "    </tr>\n",
              "    <tr>\n",
              "      <th>4</th>\n",
              "      <td>Appartement à Rabat Agdal</td>\n",
              "      <td>3 100 000 DH</td>\n",
              "      <td>Rabat</td>\n",
              "      <td>2.0</td>\n",
              "      <td>3.0</td>\n",
              "      <td>2.0</td>\n",
              "      <td>200.0</td>\n",
              "      <td>Ascenseur/Balcon/Concierge/Parking/Sécurité</td>\n",
              "      <td>https://www.avito.ma/fr/agdal/appartements/App...</td>\n",
              "    </tr>\n",
              "    <tr>\n",
              "      <th>...</th>\n",
              "      <td>...</td>\n",
              "      <td>...</td>\n",
              "      <td>...</td>\n",
              "      <td>...</td>\n",
              "      <td>...</td>\n",
              "      <td>...</td>\n",
              "      <td>...</td>\n",
              "      <td>...</td>\n",
              "      <td>...</td>\n",
              "    </tr>\n",
              "    <tr>\n",
              "      <th>1766</th>\n",
              "      <td>Appartement location</td>\n",
              "      <td>3 500 DH</td>\n",
              "      <td>Tétouan</td>\n",
              "      <td>1.0</td>\n",
              "      <td>2.0</td>\n",
              "      <td>2.0</td>\n",
              "      <td>85.0</td>\n",
              "      <td>Ascenseur/Balcon/Cuisine Équipée/Meublé/Sécurité</td>\n",
              "      <td>https://www.avito.ma/fr/el_mdrassi/appartement...</td>\n",
              "    </tr>\n",
              "    <tr>\n",
              "      <th>1767</th>\n",
              "      <td>appartement 4 minutes tgv</td>\n",
              "      <td>700 000 DH</td>\n",
              "      <td>Tanger</td>\n",
              "      <td>1.0</td>\n",
              "      <td>2.0</td>\n",
              "      <td>1.0</td>\n",
              "      <td>70.0</td>\n",
              "      <td>Ascenseur/Balcon</td>\n",
              "      <td>https://www.avito.ma/fr/tanja_balia/appartemen...</td>\n",
              "    </tr>\n",
              "    <tr>\n",
              "      <th>1768</th>\n",
              "      <td>Appartement à vendre 62 m² à Agadir</td>\n",
              "      <td>NaN</td>\n",
              "      <td>Agadir</td>\n",
              "      <td>1.0</td>\n",
              "      <td>NaN</td>\n",
              "      <td>NaN</td>\n",
              "      <td>62.0</td>\n",
              "      <td>Ascenseur/Balcon/Cuisine Équipée/Parking/Sécurité</td>\n",
              "      <td>https://www.avito.ma/fr/cit%C3%A9_adrar/appart...</td>\n",
              "    </tr>\n",
              "    <tr>\n",
              "      <th>1769</th>\n",
              "      <td>Appartement 110 m² à Agadir</td>\n",
              "      <td>NaN</td>\n",
              "      <td>Agadir</td>\n",
              "      <td>2.0</td>\n",
              "      <td>NaN</td>\n",
              "      <td>NaN</td>\n",
              "      <td>110.0</td>\n",
              "      <td>Ascenseur/Parking</td>\n",
              "      <td>https://www.avito.ma/fr/av_des_far/appartement...</td>\n",
              "    </tr>\n",
              "    <tr>\n",
              "      <th>1770</th>\n",
              "      <td>Appartement à vendre 12000 m² à Temara</td>\n",
              "      <td>NaN</td>\n",
              "      <td>Temara</td>\n",
              "      <td>2.0</td>\n",
              "      <td>NaN</td>\n",
              "      <td>NaN</td>\n",
              "      <td>12000.0</td>\n",
              "      <td>Ascenseur/Balcon/Parking/Sécurité</td>\n",
              "      <td>https://www.avito.ma/fr/massira_2/appartements...</td>\n",
              "    </tr>\n",
              "  </tbody>\n",
              "</table>\n",
              "<p>1732 rows × 9 columns</p>\n",
              "</div>\n",
              "    <div class=\"colab-df-buttons\">\n",
              "\n",
              "  <div class=\"colab-df-container\">\n",
              "    <button class=\"colab-df-convert\" onclick=\"convertToInteractive('df-b3080d4a-2767-4122-be00-995c48595eae')\"\n",
              "            title=\"Convert this dataframe to an interactive table.\"\n",
              "            style=\"display:none;\">\n",
              "\n",
              "  <svg xmlns=\"http://www.w3.org/2000/svg\" height=\"24px\" viewBox=\"0 -960 960 960\">\n",
              "    <path d=\"M120-120v-720h720v720H120Zm60-500h600v-160H180v160Zm220 220h160v-160H400v160Zm0 220h160v-160H400v160ZM180-400h160v-160H180v160Zm440 0h160v-160H620v160ZM180-180h160v-160H180v160Zm440 0h160v-160H620v160Z\"/>\n",
              "  </svg>\n",
              "    </button>\n",
              "\n",
              "  <style>\n",
              "    .colab-df-container {\n",
              "      display:flex;\n",
              "      gap: 12px;\n",
              "    }\n",
              "\n",
              "    .colab-df-convert {\n",
              "      background-color: #E8F0FE;\n",
              "      border: none;\n",
              "      border-radius: 50%;\n",
              "      cursor: pointer;\n",
              "      display: none;\n",
              "      fill: #1967D2;\n",
              "      height: 32px;\n",
              "      padding: 0 0 0 0;\n",
              "      width: 32px;\n",
              "    }\n",
              "\n",
              "    .colab-df-convert:hover {\n",
              "      background-color: #E2EBFA;\n",
              "      box-shadow: 0px 1px 2px rgba(60, 64, 67, 0.3), 0px 1px 3px 1px rgba(60, 64, 67, 0.15);\n",
              "      fill: #174EA6;\n",
              "    }\n",
              "\n",
              "    .colab-df-buttons div {\n",
              "      margin-bottom: 4px;\n",
              "    }\n",
              "\n",
              "    [theme=dark] .colab-df-convert {\n",
              "      background-color: #3B4455;\n",
              "      fill: #D2E3FC;\n",
              "    }\n",
              "\n",
              "    [theme=dark] .colab-df-convert:hover {\n",
              "      background-color: #434B5C;\n",
              "      box-shadow: 0px 1px 3px 1px rgba(0, 0, 0, 0.15);\n",
              "      filter: drop-shadow(0px 1px 2px rgba(0, 0, 0, 0.3));\n",
              "      fill: #FFFFFF;\n",
              "    }\n",
              "  </style>\n",
              "\n",
              "    <script>\n",
              "      const buttonEl =\n",
              "        document.querySelector('#df-b3080d4a-2767-4122-be00-995c48595eae button.colab-df-convert');\n",
              "      buttonEl.style.display =\n",
              "        google.colab.kernel.accessAllowed ? 'block' : 'none';\n",
              "\n",
              "      async function convertToInteractive(key) {\n",
              "        const element = document.querySelector('#df-b3080d4a-2767-4122-be00-995c48595eae');\n",
              "        const dataTable =\n",
              "          await google.colab.kernel.invokeFunction('convertToInteractive',\n",
              "                                                    [key], {});\n",
              "        if (!dataTable) return;\n",
              "\n",
              "        const docLinkHtml = 'Like what you see? Visit the ' +\n",
              "          '<a target=\"_blank\" href=https://colab.research.google.com/notebooks/data_table.ipynb>data table notebook</a>'\n",
              "          + ' to learn more about interactive tables.';\n",
              "        element.innerHTML = '';\n",
              "        dataTable['output_type'] = 'display_data';\n",
              "        await google.colab.output.renderOutput(dataTable, element);\n",
              "        const docLink = document.createElement('div');\n",
              "        docLink.innerHTML = docLinkHtml;\n",
              "        element.appendChild(docLink);\n",
              "      }\n",
              "    </script>\n",
              "  </div>\n",
              "\n",
              "\n",
              "    <div id=\"df-4593facb-be94-46f8-b0a1-b5b79c2a75ee\">\n",
              "      <button class=\"colab-df-quickchart\" onclick=\"quickchart('df-4593facb-be94-46f8-b0a1-b5b79c2a75ee')\"\n",
              "                title=\"Suggest charts\"\n",
              "                style=\"display:none;\">\n",
              "\n",
              "<svg xmlns=\"http://www.w3.org/2000/svg\" height=\"24px\"viewBox=\"0 0 24 24\"\n",
              "     width=\"24px\">\n",
              "    <g>\n",
              "        <path d=\"M19 3H5c-1.1 0-2 .9-2 2v14c0 1.1.9 2 2 2h14c1.1 0 2-.9 2-2V5c0-1.1-.9-2-2-2zM9 17H7v-7h2v7zm4 0h-2V7h2v10zm4 0h-2v-4h2v4z\"/>\n",
              "    </g>\n",
              "</svg>\n",
              "      </button>\n",
              "\n",
              "<style>\n",
              "  .colab-df-quickchart {\n",
              "      --bg-color: #E8F0FE;\n",
              "      --fill-color: #1967D2;\n",
              "      --hover-bg-color: #E2EBFA;\n",
              "      --hover-fill-color: #174EA6;\n",
              "      --disabled-fill-color: #AAA;\n",
              "      --disabled-bg-color: #DDD;\n",
              "  }\n",
              "\n",
              "  [theme=dark] .colab-df-quickchart {\n",
              "      --bg-color: #3B4455;\n",
              "      --fill-color: #D2E3FC;\n",
              "      --hover-bg-color: #434B5C;\n",
              "      --hover-fill-color: #FFFFFF;\n",
              "      --disabled-bg-color: #3B4455;\n",
              "      --disabled-fill-color: #666;\n",
              "  }\n",
              "\n",
              "  .colab-df-quickchart {\n",
              "    background-color: var(--bg-color);\n",
              "    border: none;\n",
              "    border-radius: 50%;\n",
              "    cursor: pointer;\n",
              "    display: none;\n",
              "    fill: var(--fill-color);\n",
              "    height: 32px;\n",
              "    padding: 0;\n",
              "    width: 32px;\n",
              "  }\n",
              "\n",
              "  .colab-df-quickchart:hover {\n",
              "    background-color: var(--hover-bg-color);\n",
              "    box-shadow: 0 1px 2px rgba(60, 64, 67, 0.3), 0 1px 3px 1px rgba(60, 64, 67, 0.15);\n",
              "    fill: var(--button-hover-fill-color);\n",
              "  }\n",
              "\n",
              "  .colab-df-quickchart-complete:disabled,\n",
              "  .colab-df-quickchart-complete:disabled:hover {\n",
              "    background-color: var(--disabled-bg-color);\n",
              "    fill: var(--disabled-fill-color);\n",
              "    box-shadow: none;\n",
              "  }\n",
              "\n",
              "  .colab-df-spinner {\n",
              "    border: 2px solid var(--fill-color);\n",
              "    border-color: transparent;\n",
              "    border-bottom-color: var(--fill-color);\n",
              "    animation:\n",
              "      spin 1s steps(1) infinite;\n",
              "  }\n",
              "\n",
              "  @keyframes spin {\n",
              "    0% {\n",
              "      border-color: transparent;\n",
              "      border-bottom-color: var(--fill-color);\n",
              "      border-left-color: var(--fill-color);\n",
              "    }\n",
              "    20% {\n",
              "      border-color: transparent;\n",
              "      border-left-color: var(--fill-color);\n",
              "      border-top-color: var(--fill-color);\n",
              "    }\n",
              "    30% {\n",
              "      border-color: transparent;\n",
              "      border-left-color: var(--fill-color);\n",
              "      border-top-color: var(--fill-color);\n",
              "      border-right-color: var(--fill-color);\n",
              "    }\n",
              "    40% {\n",
              "      border-color: transparent;\n",
              "      border-right-color: var(--fill-color);\n",
              "      border-top-color: var(--fill-color);\n",
              "    }\n",
              "    60% {\n",
              "      border-color: transparent;\n",
              "      border-right-color: var(--fill-color);\n",
              "    }\n",
              "    80% {\n",
              "      border-color: transparent;\n",
              "      border-right-color: var(--fill-color);\n",
              "      border-bottom-color: var(--fill-color);\n",
              "    }\n",
              "    90% {\n",
              "      border-color: transparent;\n",
              "      border-bottom-color: var(--fill-color);\n",
              "    }\n",
              "  }\n",
              "</style>\n",
              "\n",
              "      <script>\n",
              "        async function quickchart(key) {\n",
              "          const quickchartButtonEl =\n",
              "            document.querySelector('#' + key + ' button');\n",
              "          quickchartButtonEl.disabled = true;  // To prevent multiple clicks.\n",
              "          quickchartButtonEl.classList.add('colab-df-spinner');\n",
              "          try {\n",
              "            const charts = await google.colab.kernel.invokeFunction(\n",
              "                'suggestCharts', [key], {});\n",
              "          } catch (error) {\n",
              "            console.error('Error during call to suggestCharts:', error);\n",
              "          }\n",
              "          quickchartButtonEl.classList.remove('colab-df-spinner');\n",
              "          quickchartButtonEl.classList.add('colab-df-quickchart-complete');\n",
              "        }\n",
              "        (() => {\n",
              "          let quickchartButtonEl =\n",
              "            document.querySelector('#df-4593facb-be94-46f8-b0a1-b5b79c2a75ee button');\n",
              "          quickchartButtonEl.style.display =\n",
              "            google.colab.kernel.accessAllowed ? 'block' : 'none';\n",
              "        })();\n",
              "      </script>\n",
              "    </div>\n",
              "\n",
              "    </div>\n",
              "  </div>\n"
            ],
            "application/vnd.google.colaboratory.intrinsic+json": {
              "type": "dataframe",
              "summary": "{\n  \"name\": \"df\",\n  \"rows\": 1732,\n  \"fields\": [\n    {\n      \"column\": \"title\",\n      \"properties\": {\n        \"dtype\": \"string\",\n        \"num_unique_values\": 1471,\n        \"samples\": [\n          \"Appartement 134m2 \\u00e0 Temara\",\n          \"CMN-MA-1701 - Appartement \\u00e0 vendre \\u00e0 Massira Khadra\",\n          \"appart neuf 5 min malabata syndic ascenseur\"\n        ],\n        \"semantic_type\": \"\",\n        \"description\": \"\"\n      }\n    },\n    {\n      \"column\": \"price\",\n      \"properties\": {\n        \"dtype\": \"category\",\n        \"num_unique_values\": 355,\n        \"samples\": [\n          \"759\\u202f900 DH\",\n          \"740\\u202f000 DH\",\n          \"825\\u202f000 DH\"\n        ],\n        \"semantic_type\": \"\",\n        \"description\": \"\"\n      }\n    },\n    {\n      \"column\": \"city_name\",\n      \"properties\": {\n        \"dtype\": \"category\",\n        \"num_unique_values\": 77,\n        \"samples\": [\n          \"Asilah\",\n          \"\\u0627\\u0644\\u0645\\u062d\\u0645\\u062f\\u064a\\u0629\",\n          \"Sal\\u00e9\"\n        ],\n        \"semantic_type\": \"\",\n        \"description\": \"\"\n      }\n    },\n    {\n      \"column\": \"salon\",\n      \"properties\": {\n        \"dtype\": \"number\",\n        \"std\": 0.5551929750200603,\n        \"min\": 0.0,\n        \"max\": 8.0,\n        \"num_unique_values\": 7,\n        \"samples\": [\n          1.0,\n          2.0,\n          5.0\n        ],\n        \"semantic_type\": \"\",\n        \"description\": \"\"\n      }\n    },\n    {\n      \"column\": \"nb_rooms\",\n      \"properties\": {\n        \"dtype\": \"number\",\n        \"std\": 0.6684067866905508,\n        \"min\": 1.0,\n        \"max\": 7.0,\n        \"num_unique_values\": 7,\n        \"samples\": [\n          2.0,\n          1.0,\n          6.0\n        ],\n        \"semantic_type\": \"\",\n        \"description\": \"\"\n      }\n    },\n    {\n      \"column\": \"nb_baths\",\n      \"properties\": {\n        \"dtype\": \"number\",\n        \"std\": 7.424765781517087,\n        \"min\": 0.0,\n        \"max\": 134.0,\n        \"num_unique_values\": 16,\n        \"samples\": [\n          2.0,\n          1.0,\n          110.0\n        ],\n        \"semantic_type\": \"\",\n        \"description\": \"\"\n      }\n    },\n    {\n      \"column\": \"surface_area\",\n      \"properties\": {\n        \"dtype\": \"number\",\n        \"std\": 3005.066250535742,\n        \"min\": 1.0,\n        \"max\": 123456.0,\n        \"num_unique_values\": 192,\n        \"samples\": [\n          86.0,\n          124.0,\n          79.0\n        ],\n        \"semantic_type\": \"\",\n        \"description\": \"\"\n      }\n    },\n    {\n      \"column\": \"equipment\",\n      \"properties\": {\n        \"dtype\": \"category\",\n        \"num_unique_values\": 321,\n        \"samples\": [\n          \"Concierge/Cuisine \\u00c9quip\\u00e9e/Parking/S\\u00e9curit\\u00e9\",\n          \"Ascenseur/Climatisation/Concierge/Parking/S\\u00e9curit\\u00e9/Terrasse\",\n          \"Balcon/Climatisation/Cuisine \\u00c9quip\\u00e9e/Meubl\\u00e9/Parking/S\\u00e9curit\\u00e9/Terrasse\"\n        ],\n        \"semantic_type\": \"\",\n        \"description\": \"\"\n      }\n    },\n    {\n      \"column\": \"link\",\n      \"properties\": {\n        \"dtype\": \"string\",\n        \"num_unique_values\": 1732,\n        \"samples\": [\n          \"https://www.avito.ma/fr/route_de_casablanca/appartements/Appart_route_de_Casablanca__%C3%A0_vendre__53540972.htm\",\n          \"https://www.avito.ma/fr/marjane_2/appartements/Appartement_%C3%A0_vendre_73_m%C2%B2_%C3%A0_Mekn%C3%A8s_55818178.htm\",\n          \"https://www.avito.ma/fr/tabriquet/appartements/Appartement_%C3%A0_vendre_122_m%C2%B2_%C3%A0_Sal%C3%A9_55342074.htm\"\n        ],\n        \"semantic_type\": \"\",\n        \"description\": \"\"\n      }\n    }\n  ]\n}"
            }
          },
          "metadata": {},
          "execution_count": 10
        }
      ]
    },
    {
      "cell_type": "markdown",
      "source": [
        "-  Afficher  des statistiques descriptives (moyenne, min, max, quartiles) des colonnes numériques"
      ],
      "metadata": {
        "id": "pLmEEeAnQej9"
      }
    },
    {
      "cell_type": "code",
      "source": [
        "df.describe()"
      ],
      "metadata": {
        "colab": {
          "base_uri": "https://localhost:8080/",
          "height": 300
        },
        "id": "go4b6-rv_ftk",
        "outputId": "8b407c9e-037c-4d71-8b3b-a67a9f5b25ce"
      },
      "execution_count": 11,
      "outputs": [
        {
          "output_type": "execute_result",
          "data": {
            "text/plain": [
              "             salon     nb_rooms     nb_baths   surface_area\n",
              "count  1620.000000  1490.000000  1480.000000    1742.000000\n",
              "mean      1.267284     2.379195     2.307432     174.933410\n",
              "std       0.557539     0.667159     7.629128    2969.500693\n",
              "min       0.000000     1.000000     0.000000       1.000000\n",
              "25%       1.000000     2.000000     1.000000      71.000000\n",
              "50%       1.000000     2.000000     2.000000      89.000000\n",
              "75%       1.000000     3.000000     2.000000     114.750000\n",
              "max       8.000000     7.000000   134.000000  123456.000000"
            ],
            "text/html": [
              "\n",
              "  <div id=\"df-39626c25-e183-4dbd-bc20-c038043b4521\" class=\"colab-df-container\">\n",
              "    <div>\n",
              "<style scoped>\n",
              "    .dataframe tbody tr th:only-of-type {\n",
              "        vertical-align: middle;\n",
              "    }\n",
              "\n",
              "    .dataframe tbody tr th {\n",
              "        vertical-align: top;\n",
              "    }\n",
              "\n",
              "    .dataframe thead th {\n",
              "        text-align: right;\n",
              "    }\n",
              "</style>\n",
              "<table border=\"1\" class=\"dataframe\">\n",
              "  <thead>\n",
              "    <tr style=\"text-align: right;\">\n",
              "      <th></th>\n",
              "      <th>salon</th>\n",
              "      <th>nb_rooms</th>\n",
              "      <th>nb_baths</th>\n",
              "      <th>surface_area</th>\n",
              "    </tr>\n",
              "  </thead>\n",
              "  <tbody>\n",
              "    <tr>\n",
              "      <th>count</th>\n",
              "      <td>1620.000000</td>\n",
              "      <td>1490.000000</td>\n",
              "      <td>1480.000000</td>\n",
              "      <td>1742.000000</td>\n",
              "    </tr>\n",
              "    <tr>\n",
              "      <th>mean</th>\n",
              "      <td>1.267284</td>\n",
              "      <td>2.379195</td>\n",
              "      <td>2.307432</td>\n",
              "      <td>174.933410</td>\n",
              "    </tr>\n",
              "    <tr>\n",
              "      <th>std</th>\n",
              "      <td>0.557539</td>\n",
              "      <td>0.667159</td>\n",
              "      <td>7.629128</td>\n",
              "      <td>2969.500693</td>\n",
              "    </tr>\n",
              "    <tr>\n",
              "      <th>min</th>\n",
              "      <td>0.000000</td>\n",
              "      <td>1.000000</td>\n",
              "      <td>0.000000</td>\n",
              "      <td>1.000000</td>\n",
              "    </tr>\n",
              "    <tr>\n",
              "      <th>25%</th>\n",
              "      <td>1.000000</td>\n",
              "      <td>2.000000</td>\n",
              "      <td>1.000000</td>\n",
              "      <td>71.000000</td>\n",
              "    </tr>\n",
              "    <tr>\n",
              "      <th>50%</th>\n",
              "      <td>1.000000</td>\n",
              "      <td>2.000000</td>\n",
              "      <td>2.000000</td>\n",
              "      <td>89.000000</td>\n",
              "    </tr>\n",
              "    <tr>\n",
              "      <th>75%</th>\n",
              "      <td>1.000000</td>\n",
              "      <td>3.000000</td>\n",
              "      <td>2.000000</td>\n",
              "      <td>114.750000</td>\n",
              "    </tr>\n",
              "    <tr>\n",
              "      <th>max</th>\n",
              "      <td>8.000000</td>\n",
              "      <td>7.000000</td>\n",
              "      <td>134.000000</td>\n",
              "      <td>123456.000000</td>\n",
              "    </tr>\n",
              "  </tbody>\n",
              "</table>\n",
              "</div>\n",
              "    <div class=\"colab-df-buttons\">\n",
              "\n",
              "  <div class=\"colab-df-container\">\n",
              "    <button class=\"colab-df-convert\" onclick=\"convertToInteractive('df-39626c25-e183-4dbd-bc20-c038043b4521')\"\n",
              "            title=\"Convert this dataframe to an interactive table.\"\n",
              "            style=\"display:none;\">\n",
              "\n",
              "  <svg xmlns=\"http://www.w3.org/2000/svg\" height=\"24px\" viewBox=\"0 -960 960 960\">\n",
              "    <path d=\"M120-120v-720h720v720H120Zm60-500h600v-160H180v160Zm220 220h160v-160H400v160Zm0 220h160v-160H400v160ZM180-400h160v-160H180v160Zm440 0h160v-160H620v160ZM180-180h160v-160H180v160Zm440 0h160v-160H620v160Z\"/>\n",
              "  </svg>\n",
              "    </button>\n",
              "\n",
              "  <style>\n",
              "    .colab-df-container {\n",
              "      display:flex;\n",
              "      gap: 12px;\n",
              "    }\n",
              "\n",
              "    .colab-df-convert {\n",
              "      background-color: #E8F0FE;\n",
              "      border: none;\n",
              "      border-radius: 50%;\n",
              "      cursor: pointer;\n",
              "      display: none;\n",
              "      fill: #1967D2;\n",
              "      height: 32px;\n",
              "      padding: 0 0 0 0;\n",
              "      width: 32px;\n",
              "    }\n",
              "\n",
              "    .colab-df-convert:hover {\n",
              "      background-color: #E2EBFA;\n",
              "      box-shadow: 0px 1px 2px rgba(60, 64, 67, 0.3), 0px 1px 3px 1px rgba(60, 64, 67, 0.15);\n",
              "      fill: #174EA6;\n",
              "    }\n",
              "\n",
              "    .colab-df-buttons div {\n",
              "      margin-bottom: 4px;\n",
              "    }\n",
              "\n",
              "    [theme=dark] .colab-df-convert {\n",
              "      background-color: #3B4455;\n",
              "      fill: #D2E3FC;\n",
              "    }\n",
              "\n",
              "    [theme=dark] .colab-df-convert:hover {\n",
              "      background-color: #434B5C;\n",
              "      box-shadow: 0px 1px 3px 1px rgba(0, 0, 0, 0.15);\n",
              "      filter: drop-shadow(0px 1px 2px rgba(0, 0, 0, 0.3));\n",
              "      fill: #FFFFFF;\n",
              "    }\n",
              "  </style>\n",
              "\n",
              "    <script>\n",
              "      const buttonEl =\n",
              "        document.querySelector('#df-39626c25-e183-4dbd-bc20-c038043b4521 button.colab-df-convert');\n",
              "      buttonEl.style.display =\n",
              "        google.colab.kernel.accessAllowed ? 'block' : 'none';\n",
              "\n",
              "      async function convertToInteractive(key) {\n",
              "        const element = document.querySelector('#df-39626c25-e183-4dbd-bc20-c038043b4521');\n",
              "        const dataTable =\n",
              "          await google.colab.kernel.invokeFunction('convertToInteractive',\n",
              "                                                    [key], {});\n",
              "        if (!dataTable) return;\n",
              "\n",
              "        const docLinkHtml = 'Like what you see? Visit the ' +\n",
              "          '<a target=\"_blank\" href=https://colab.research.google.com/notebooks/data_table.ipynb>data table notebook</a>'\n",
              "          + ' to learn more about interactive tables.';\n",
              "        element.innerHTML = '';\n",
              "        dataTable['output_type'] = 'display_data';\n",
              "        await google.colab.output.renderOutput(dataTable, element);\n",
              "        const docLink = document.createElement('div');\n",
              "        docLink.innerHTML = docLinkHtml;\n",
              "        element.appendChild(docLink);\n",
              "      }\n",
              "    </script>\n",
              "  </div>\n",
              "\n",
              "\n",
              "    <div id=\"df-214cc60e-3f08-44b4-9043-d73c8bdb934f\">\n",
              "      <button class=\"colab-df-quickchart\" onclick=\"quickchart('df-214cc60e-3f08-44b4-9043-d73c8bdb934f')\"\n",
              "                title=\"Suggest charts\"\n",
              "                style=\"display:none;\">\n",
              "\n",
              "<svg xmlns=\"http://www.w3.org/2000/svg\" height=\"24px\"viewBox=\"0 0 24 24\"\n",
              "     width=\"24px\">\n",
              "    <g>\n",
              "        <path d=\"M19 3H5c-1.1 0-2 .9-2 2v14c0 1.1.9 2 2 2h14c1.1 0 2-.9 2-2V5c0-1.1-.9-2-2-2zM9 17H7v-7h2v7zm4 0h-2V7h2v10zm4 0h-2v-4h2v4z\"/>\n",
              "    </g>\n",
              "</svg>\n",
              "      </button>\n",
              "\n",
              "<style>\n",
              "  .colab-df-quickchart {\n",
              "      --bg-color: #E8F0FE;\n",
              "      --fill-color: #1967D2;\n",
              "      --hover-bg-color: #E2EBFA;\n",
              "      --hover-fill-color: #174EA6;\n",
              "      --disabled-fill-color: #AAA;\n",
              "      --disabled-bg-color: #DDD;\n",
              "  }\n",
              "\n",
              "  [theme=dark] .colab-df-quickchart {\n",
              "      --bg-color: #3B4455;\n",
              "      --fill-color: #D2E3FC;\n",
              "      --hover-bg-color: #434B5C;\n",
              "      --hover-fill-color: #FFFFFF;\n",
              "      --disabled-bg-color: #3B4455;\n",
              "      --disabled-fill-color: #666;\n",
              "  }\n",
              "\n",
              "  .colab-df-quickchart {\n",
              "    background-color: var(--bg-color);\n",
              "    border: none;\n",
              "    border-radius: 50%;\n",
              "    cursor: pointer;\n",
              "    display: none;\n",
              "    fill: var(--fill-color);\n",
              "    height: 32px;\n",
              "    padding: 0;\n",
              "    width: 32px;\n",
              "  }\n",
              "\n",
              "  .colab-df-quickchart:hover {\n",
              "    background-color: var(--hover-bg-color);\n",
              "    box-shadow: 0 1px 2px rgba(60, 64, 67, 0.3), 0 1px 3px 1px rgba(60, 64, 67, 0.15);\n",
              "    fill: var(--button-hover-fill-color);\n",
              "  }\n",
              "\n",
              "  .colab-df-quickchart-complete:disabled,\n",
              "  .colab-df-quickchart-complete:disabled:hover {\n",
              "    background-color: var(--disabled-bg-color);\n",
              "    fill: var(--disabled-fill-color);\n",
              "    box-shadow: none;\n",
              "  }\n",
              "\n",
              "  .colab-df-spinner {\n",
              "    border: 2px solid var(--fill-color);\n",
              "    border-color: transparent;\n",
              "    border-bottom-color: var(--fill-color);\n",
              "    animation:\n",
              "      spin 1s steps(1) infinite;\n",
              "  }\n",
              "\n",
              "  @keyframes spin {\n",
              "    0% {\n",
              "      border-color: transparent;\n",
              "      border-bottom-color: var(--fill-color);\n",
              "      border-left-color: var(--fill-color);\n",
              "    }\n",
              "    20% {\n",
              "      border-color: transparent;\n",
              "      border-left-color: var(--fill-color);\n",
              "      border-top-color: var(--fill-color);\n",
              "    }\n",
              "    30% {\n",
              "      border-color: transparent;\n",
              "      border-left-color: var(--fill-color);\n",
              "      border-top-color: var(--fill-color);\n",
              "      border-right-color: var(--fill-color);\n",
              "    }\n",
              "    40% {\n",
              "      border-color: transparent;\n",
              "      border-right-color: var(--fill-color);\n",
              "      border-top-color: var(--fill-color);\n",
              "    }\n",
              "    60% {\n",
              "      border-color: transparent;\n",
              "      border-right-color: var(--fill-color);\n",
              "    }\n",
              "    80% {\n",
              "      border-color: transparent;\n",
              "      border-right-color: var(--fill-color);\n",
              "      border-bottom-color: var(--fill-color);\n",
              "    }\n",
              "    90% {\n",
              "      border-color: transparent;\n",
              "      border-bottom-color: var(--fill-color);\n",
              "    }\n",
              "  }\n",
              "</style>\n",
              "\n",
              "      <script>\n",
              "        async function quickchart(key) {\n",
              "          const quickchartButtonEl =\n",
              "            document.querySelector('#' + key + ' button');\n",
              "          quickchartButtonEl.disabled = true;  // To prevent multiple clicks.\n",
              "          quickchartButtonEl.classList.add('colab-df-spinner');\n",
              "          try {\n",
              "            const charts = await google.colab.kernel.invokeFunction(\n",
              "                'suggestCharts', [key], {});\n",
              "          } catch (error) {\n",
              "            console.error('Error during call to suggestCharts:', error);\n",
              "          }\n",
              "          quickchartButtonEl.classList.remove('colab-df-spinner');\n",
              "          quickchartButtonEl.classList.add('colab-df-quickchart-complete');\n",
              "        }\n",
              "        (() => {\n",
              "          let quickchartButtonEl =\n",
              "            document.querySelector('#df-214cc60e-3f08-44b4-9043-d73c8bdb934f button');\n",
              "          quickchartButtonEl.style.display =\n",
              "            google.colab.kernel.accessAllowed ? 'block' : 'none';\n",
              "        })();\n",
              "      </script>\n",
              "    </div>\n",
              "\n",
              "    </div>\n",
              "  </div>\n"
            ],
            "application/vnd.google.colaboratory.intrinsic+json": {
              "type": "dataframe",
              "summary": "{\n  \"name\": \"df\",\n  \"rows\": 8,\n  \"fields\": [\n    {\n      \"column\": \"salon\",\n      \"properties\": {\n        \"dtype\": \"number\",\n        \"std\": 572.1144121314225,\n        \"min\": 0.0,\n        \"max\": 1620.0,\n        \"num_unique_values\": 6,\n        \"samples\": [\n          1620.0,\n          1.267283950617284,\n          8.0\n        ],\n        \"semantic_type\": \"\",\n        \"description\": \"\"\n      }\n    },\n    {\n      \"column\": \"nb_rooms\",\n      \"properties\": {\n        \"dtype\": \"number\",\n        \"std\": 525.8866839083672,\n        \"min\": 0.6671587227095801,\n        \"max\": 1490.0,\n        \"num_unique_values\": 7,\n        \"samples\": [\n          1490.0,\n          2.379194630872483,\n          3.0\n        ],\n        \"semantic_type\": \"\",\n        \"description\": \"\"\n      }\n    },\n    {\n      \"column\": \"nb_baths\",\n      \"properties\": {\n        \"dtype\": \"number\",\n        \"std\": 517.7905310138359,\n        \"min\": 0.0,\n        \"max\": 1480.0,\n        \"num_unique_values\": 7,\n        \"samples\": [\n          1480.0,\n          2.3074324324324325,\n          2.0\n        ],\n        \"semantic_type\": \"\",\n        \"description\": \"\"\n      }\n    },\n    {\n      \"column\": \"surface_area\",\n      \"properties\": {\n        \"dtype\": \"number\",\n        \"std\": 43400.89450424811,\n        \"min\": 1.0,\n        \"max\": 123456.0,\n        \"num_unique_values\": 8,\n        \"samples\": [\n          174.93340987370837,\n          89.0,\n          1742.0\n        ],\n        \"semantic_type\": \"\",\n        \"description\": \"\"\n      }\n    }\n  ]\n}"
            }
          },
          "metadata": {},
          "execution_count": 11
        }
      ]
    },
    {
      "cell_type": "markdown",
      "source": [
        "- Étudier les corrélations entre les variables (matrice de corrélation)"
      ],
      "metadata": {
        "id": "RnBI4DLfRAdx"
      }
    },
    {
      "cell_type": "code",
      "source": [
        "variablees_numeriques=df.select_dtypes(include=[\"number\"]).columns.tolist()\n",
        "sns.heatmap(df[variablees_numeriques].corr(), annot=True)\n",
        "plt.show()"
      ],
      "metadata": {
        "colab": {
          "base_uri": "https://localhost:8080/",
          "height": 435
        },
        "id": "bu84n8G7_95D",
        "outputId": "347f96a8-b30b-44fd-be02-81346ad0aa6c"
      },
      "execution_count": 12,
      "outputs": [
        {
          "output_type": "display_data",
          "data": {
            "text/plain": [
              "<Figure size 640x480 with 2 Axes>"
            ],
            "image/png": "[encoded data removed]"
          },
          "metadata": {}
        }
      ]
    },
    {
      "cell_type": "markdown",
      "source": [
        "**Prétraitement des données**"
      ],
      "metadata": {
        "id": "2jnWYsxDRuzW"
      }
    },
    {
      "cell_type": "markdown",
      "source": [
        "- Extraire les équipements (`equipment`) en colonnes booléennes avec `str.get_dummies()"
      ],
      "metadata": {
        "id": "0Xc9R7cQR6Wq"
      }
    },
    {
      "cell_type": "code",
      "execution_count": 13,
      "metadata": {
        "colab": {
          "base_uri": "https://localhost:8080/"
        },
        "id": "l1_uHOdRluiW",
        "outputId": "a842d66e-db25-4b77-ff55-d012d352b16d"
      },
      "outputs": [
        {
          "output_type": "stream",
          "name": "stdout",
          "text": [
            "      Ascenseur  Balcon  Chauffage  Climatisation  Concierge  Cuisine Équipée  \\\n",
            "0             1       1          0              0          0                0   \n",
            "1             1       1          1              1          0                1   \n",
            "2             1       1          1              1          1                1   \n",
            "3             1       0          1              1          0                1   \n",
            "4             1       1          0              0          1                0   \n",
            "...         ...     ...        ...            ...        ...              ...   \n",
            "1768          1       1          0              0          0                1   \n",
            "1769          1       0          0              0          0                0   \n",
            "1770          1       1          0              0          0                0   \n",
            "1771          0       0          0              0          0                1   \n",
            "1772          1       1          0              1          1                1   \n",
            "\n",
            "      Duplex  Meublé  Parking  Sécurité  Terrasse  \n",
            "0          0       0        1         0         1  \n",
            "1          0       0        1         0         0  \n",
            "2          1       0        1         1         1  \n",
            "3          0       1        1         1         1  \n",
            "4          0       0        1         1         0  \n",
            "...      ...     ...      ...       ...       ...  \n",
            "1768       0       0        1         1         0  \n",
            "1769       0       0        1         0         0  \n",
            "1770       0       0        1         1         0  \n",
            "1771       0       0        1         1         0  \n",
            "1772       0       0        1         1         1  \n",
            "\n",
            "[1773 rows x 11 columns]\n"
          ]
        }
      ],
      "source": [
        "equipements_dummies=df['equipment'].str.get_dummies(\"/\")\n",
        "df = pd.concat([df.drop(\"equipment\", axis=1), equipements_dummies], axis=1)\n",
        "print(equipements_dummies)"
      ]
    },
    {
      "cell_type": "markdown",
      "source": [
        "- Convertir la colonne `price` en `float` (suppression de caractères non numériques)"
      ],
      "metadata": {
        "id": "xWk26KroSOki"
      }
    },
    {
      "cell_type": "code",
      "execution_count": 14,
      "metadata": {
        "colab": {
          "base_uri": "https://localhost:8080/"
        },
        "id": "FqdiMfOSlwps",
        "outputId": "b4c43587-649a-4676-f4e4-9956a6ae09fb"
      },
      "outputs": [
        {
          "output_type": "stream",
          "name": "stdout",
          "text": [
            "                                                  title      price  \\\n",
            "0          CMN-MA-1752 - Appartement à vendre à Palmier  2000000.0   \n",
            "1     66370-Vente Appt à Casablanca Hay Hassani de 1...  1195000.0   \n",
            "2              Appartement à vendre 81 m² à Dar Bouazza  1350000.0   \n",
            "3     63860-Vente Appt à Casablanca Quartier Bd Med ...   900000.0   \n",
            "4                             Appartement à Rabat Agdal  3100000.0   \n",
            "...                                                 ...        ...   \n",
            "1768                Appartement à vendre 62 m² à Agadir        NaN   \n",
            "1769                        Appartement 110 m² à Agadir        NaN   \n",
            "1770             Appartement à vendre 12000 m² à Temara        NaN   \n",
            "1771                      appartement de 84 m² à vendre   700000.0   \n",
            "1772                 Appartement Neuf à vendre à Temara  1200000.0   \n",
            "\n",
            "        city_name  salon  nb_rooms  nb_baths  surface_area  \\\n",
            "0      Casablanca    NaN       2.0       2.0         168.0   \n",
            "1      Casablanca    NaN       2.0       2.0          98.0   \n",
            "2     Dar Bouazza    1.0       2.0       2.0          81.0   \n",
            "3      Casablanca    NaN       1.0       1.0          56.0   \n",
            "4           Rabat    2.0       3.0       2.0         200.0   \n",
            "...           ...    ...       ...       ...           ...   \n",
            "1768       Agadir    1.0       NaN       NaN          62.0   \n",
            "1769       Agadir    2.0       NaN       NaN         110.0   \n",
            "1770       Temara    2.0       NaN       NaN       12000.0   \n",
            "1771   Casablanca    1.0       2.0       2.0          84.0   \n",
            "1772       Temara    1.0       2.0       2.0          84.0   \n",
            "\n",
            "                                                   link  Ascenseur  Balcon  \\\n",
            "0     https://www.avito.ma/fr/palmier/appartements/C...          1       1   \n",
            "1     https://www.avito.ma/fr/hay_hassani/appartemen...          1       1   \n",
            "2     https://www.avito.ma/fr/dar_bouazza/appartemen...          1       1   \n",
            "3     https://www.avito.ma/fr/centre_ville/apparteme...          1       0   \n",
            "4     https://www.avito.ma/fr/agdal/appartements/App...          1       1   \n",
            "...                                                 ...        ...     ...   \n",
            "1768  https://www.avito.ma/fr/cit%C3%A9_adrar/appart...          1       1   \n",
            "1769  https://www.avito.ma/fr/av_des_far/appartement...          1       0   \n",
            "1770  https://www.avito.ma/fr/massira_2/appartements...          1       1   \n",
            "1771               https://www.avito.ma/vi/55818389.htm          0       0   \n",
            "1772               https://www.avito.ma/vi/55832294.htm          1       1   \n",
            "\n",
            "      Chauffage  Climatisation  Concierge  Cuisine Équipée  Duplex  Meublé  \\\n",
            "0             0              0          0                0       0       0   \n",
            "1             1              1          0                1       0       0   \n",
            "2             1              1          1                1       1       0   \n",
            "3             1              1          0                1       0       1   \n",
            "4             0              0          1                0       0       0   \n",
            "...         ...            ...        ...              ...     ...     ...   \n",
            "1768          0              0          0                1       0       0   \n",
            "1769          0              0          0                0       0       0   \n",
            "1770          0              0          0                0       0       0   \n",
            "1771          0              0          0                1       0       0   \n",
            "1772          0              1          1                1       0       0   \n",
            "\n",
            "      Parking  Sécurité  Terrasse  \n",
            "0           1         0         1  \n",
            "1           1         0         0  \n",
            "2           1         1         1  \n",
            "3           1         1         1  \n",
            "4           1         1         0  \n",
            "...       ...       ...       ...  \n",
            "1768        1         1         0  \n",
            "1769        1         0         0  \n",
            "1770        1         1         0  \n",
            "1771        1         1         0  \n",
            "1772        1         1         1  \n",
            "\n",
            "[1773 rows x 19 columns]\n"
          ]
        }
      ],
      "source": [
        "df['price']=df['price'].replace(r\"[^\\d.]\", \"\", regex=True).astype(float)\n",
        "print(df)"
      ]
    },
    {
      "cell_type": "markdown",
      "source": [
        "- Supprimer les colonnes inutiles : `link`, `title`"
      ],
      "metadata": {
        "id": "rK52s1CfSqbB"
      }
    },
    {
      "cell_type": "code",
      "execution_count": 15,
      "metadata": {
        "id": "ORd8BZ1pl1OP"
      },
      "outputs": [],
      "source": [
        "df.drop(['link','title'], axis=1, inplace=True)"
      ]
    },
    {
      "cell_type": "markdown",
      "source": [
        "- Uniformiser les noms de villes dans `city_name`\n",
        "\n",
        "1.   Afficher les noms de villes uniques présents dans la colonne 'city_name'\n",
        "2.   Dictionnaire de correspondance : noms de villes en arabe ➜ noms en français\n",
        "3.   Remplacer les noms de villes en arabe par leurs équivalents en français\n",
        "\n"
      ],
      "metadata": {
        "id": "u6HOMWgESml0"
      }
    },
    {
      "cell_type": "code",
      "execution_count": 16,
      "metadata": {
        "colab": {
          "base_uri": "https://localhost:8080/"
        },
        "id": "dBzkDKltl35Y",
        "outputId": "49c7860e-6a7d-49cb-e90f-811ae4e64d7e"
      },
      "outputs": [
        {
          "output_type": "stream",
          "name": "stdout",
          "text": [
            "['Casablanca' 'Dar Bouazza' 'Rabat' 'Marrakech' 'Asilah' 'Bouskoura'\n",
            " 'Kénitra' 'Mohammedia' 'Agadir' 'Tamesna' 'Salé' 'Had Soualem' 'Temara'\n",
            " 'Benslimane' 'Tanger' 'Bouznika' 'Meknès' 'Fès' 'El Jadida'\n",
            " 'El Mansouria' 'Martil' 'الدار البيضاء' 'Fnideq' 'Tétouan' 'Saidia'\n",
            " 'Nouaceur' 'القنيطرة' 'Tamaris' 'طنجة' 'Cabo Negro'\n",
            " 'Sidi Allal El Bahraoui' 'Béni Mellal' 'أكادير' nan 'Essaouira' 'Mehdia'\n",
            " 'المحمدية' 'Oujda' 'Oued Laou' 'Dcheira' 'Sidi Rahal' 'Deroua' 'مراكش'\n",
            " 'Ain Attig' 'Safi' 'الرباط' 'Inzegan' 'Ifrane' 'Dakhla'\n",
            " 'Dcheïra El Jihadia' 'Taghazout' 'Sidi Bouknadel' 'Skhirat' 'Khouribga'\n",
            " 'Berkane' 'Mers El Kheir' 'Berrechid' 'Tiznit' 'Agadir Melloul' 'Nador'\n",
            " 'El Menzeh' 'Bni Ansar' 'Mdiq' 'Tit Mellil' 'Souk El Arbaa' 'Biougra'\n",
            " 'Settat' 'Ain Aouda' 'Taza' 'Khemisset' 'Oued Zem' 'Sefrou' 'Merzouga'\n",
            " 'El Hajeb' 'Selouane' 'Taounate' 'Sidi Bennour' 'El Ksiba']\n"
          ]
        }
      ],
      "source": [
        "print(df['city_name'].unique())"
      ]
    },
    {
      "cell_type": "code",
      "execution_count": 17,
      "metadata": {
        "colab": {
          "base_uri": "https://localhost:8080/"
        },
        "id": "tf6zBek-l6j_",
        "outputId": "38b3031d-ccfa-4b3b-859e-5b7a44344278"
      },
      "outputs": [
        {
          "output_type": "stream",
          "name": "stdout",
          "text": [
            "0        Casablanca\n",
            "1        Casablanca\n",
            "2       Dar Bouazza\n",
            "3        Casablanca\n",
            "4             Rabat\n",
            "           ...     \n",
            "1768         Agadir\n",
            "1769         Agadir\n",
            "1770         Temara\n",
            "1771     Casablanca\n",
            "1772         Temara\n",
            "Name: city_name, Length: 1773, dtype: object\n"
          ]
        }
      ],
      "source": [
        "ville_dict = {\n",
        "    \"الدار البيضاء\": \"Casablanca\",\n",
        "    \"الرباط\": \"Rabat\",\n",
        "    \"فاس\": \"Fès\",\n",
        "    \"مراكش\": \"Marrakech\",\n",
        "    \"طنجة\": \"Tanger\",\n",
        "    \"أكادير\": \"Agadir\",\n",
        "    \"مكناس\": \"Meknès\",\n",
        "    \"وجدة\": \"Oujda\",\n",
        "    \"تطوان\": \"Tétouan\",\n",
        "    \"آسفي\": \"Safi\",\n",
        "    \"القنيطرة\": \"Kénitra\",\n",
        "    \"خريبكة\": \"Khouribga\",\n",
        "    \"بني ملال\": \"Beni Mellal\",\n",
        "    \"الناظور\": \"Nador\",\n",
        "    \"الجديدة\": \"El Jadida\",\n",
        "    \"تازة\": \"Taza\",\n",
        "    \"تمارة\": \"Témara\",\n",
        "    \"بركان\": \"Berkane\",\n",
        "    \"سلا\": \"Salé\",\n",
        "    \"العيون\": \"Laâyoune\",\n",
        "    \"الراشيدية\": \"Errachidia\",\n",
        "    \"ورزازات\": \"Ouarzazate\",\n",
        "    \"سطات\": \"Settat\",\n",
        "    \"تاوريرت\": \"Taourirt\",\n",
        "    \"الصويرة\": \"Essaouira\",\n",
        "    \"كلميم\": \"Guelmim\",\n",
        "    \"الفقيه بن صالح\": \"Fquih Ben Salah\",\n",
        "    \"المحمدية\": \"Mohammédia\",\n",
        "    \"زاكورة\": \"Zagora\",\n",
        "    \"سيدي قاسم\": \"Sidi Kacem\",\n",
        "    \"سيدي سليمان\": \"Sidi Slimane\",\n",
        "    \"اليوسفية\": \"Youssoufia\"\n",
        "}\n",
        "df['city_name']=df['city_name'].replace(ville_dict)\n",
        "print(df['city_name'])"
      ]
    },
    {
      "cell_type": "markdown",
      "source": [
        "**Traitement des valeurs manquantes**"
      ],
      "metadata": {
        "id": "nblkRA01UjAB"
      }
    },
    {
      "cell_type": "markdown",
      "source": [
        "- Supprimer les valeurs manquantes dans 'price'\n",
        "\n"
      ],
      "metadata": {
        "id": "MjWoTUl6Tlcl"
      }
    },
    {
      "cell_type": "code",
      "source": [
        "df.dropna(subset=[\"price\"], inplace=True)"
      ],
      "metadata": {
        "id": "LLqonY2uWbtu"
      },
      "execution_count": 18,
      "outputs": []
    },
    {
      "cell_type": "markdown",
      "source": [
        " - identifier la somme des valeurs manquantes restantes dans DataFrame df"
      ],
      "metadata": {
        "id": "uqtB4OPMT9Dp"
      }
    },
    {
      "cell_type": "markdown",
      "source": [
        "\n",
        "\n",
        "1.   On remplace les valeurs manquantes par \"Unknown\"\n",
        "2.   Pour les variables numériques (sauf price), on remplace les valeurs manquantes par la médiane\n",
        "\n"
      ],
      "metadata": {
        "id": "KWDZtEGXUTeC"
      }
    },
    {
      "cell_type": "code",
      "execution_count": 19,
      "metadata": {
        "id": "cjBxe_A5mA6Q"
      },
      "outputs": [],
      "source": [
        "df['city_name']=df['city_name'].fillna(\"Unknown\")\n",
        "colonnes_numeriques=df.select_dtypes(include=[\"number\"]).drop(columns=['price']).columns.tolist()\n",
        "for colom in colonnes_numeriques:\n",
        "  df[colom]=df[colom].fillna(df[colom].median())\n",
        "\n"
      ]
    },
    {
      "cell_type": "markdown",
      "source": [
        " - identifier la somme des valeurs manquantes restantes dans DataFrame df"
      ],
      "metadata": {
        "id": "jxKMuXbGVGae"
      }
    },
    {
      "cell_type": "code",
      "source": [
        "df[df.isnull().any(axis=1)]"
      ],
      "metadata": {
        "colab": {
          "base_uri": "https://localhost:8080/",
          "height": 87
        },
        "id": "bnzozubpXZUD",
        "outputId": "98af5564-55a8-4bca-f7b3-609e93a1bd49"
      },
      "execution_count": 20,
      "outputs": [
        {
          "output_type": "execute_result",
          "data": {
            "text/plain": [
              "Empty DataFrame\n",
              "Columns: [price, city_name, salon, nb_rooms, nb_baths, surface_area, Ascenseur, Balcon, Chauffage, Climatisation, Concierge, Cuisine Équipée, Duplex, Meublé, Parking, Sécurité, Terrasse]\n",
              "Index: []"
            ],
            "text/html": [
              "\n",
              "  <div id=\"df-afdbbc7f-79dd-49b1-8e93-fd5c853a9097\" class=\"colab-df-container\">\n",
              "    <div>\n",
              "<style scoped>\n",
              "    .dataframe tbody tr th:only-of-type {\n",
              "        vertical-align: middle;\n",
              "    }\n",
              "\n",
              "    .dataframe tbody tr th {\n",
              "        vertical-align: top;\n",
              "    }\n",
              "\n",
              "    .dataframe thead th {\n",
              "        text-align: right;\n",
              "    }\n",
              "</style>\n",
              "<table border=\"1\" class=\"dataframe\">\n",
              "  <thead>\n",
              "    <tr style=\"text-align: right;\">\n",
              "      <th></th>\n",
              "      <th>price</th>\n",
              "      <th>city_name</th>\n",
              "      <th>salon</th>\n",
              "      <th>nb_rooms</th>\n",
              "      <th>nb_baths</th>\n",
              "      <th>surface_area</th>\n",
              "      <th>Ascenseur</th>\n",
              "      <th>Balcon</th>\n",
              "      <th>Chauffage</th>\n",
              "      <th>Climatisation</th>\n",
              "      <th>Concierge</th>\n",
              "      <th>Cuisine Équipée</th>\n",
              "      <th>Duplex</th>\n",
              "      <th>Meublé</th>\n",
              "      <th>Parking</th>\n",
              "      <th>Sécurité</th>\n",
              "      <th>Terrasse</th>\n",
              "    </tr>\n",
              "  </thead>\n",
              "  <tbody>\n",
              "  </tbody>\n",
              "</table>\n",
              "</div>\n",
              "    <div class=\"colab-df-buttons\">\n",
              "\n",
              "  <div class=\"colab-df-container\">\n",
              "    <button class=\"colab-df-convert\" onclick=\"convertToInteractive('df-afdbbc7f-79dd-49b1-8e93-fd5c853a9097')\"\n",
              "            title=\"Convert this dataframe to an interactive table.\"\n",
              "            style=\"display:none;\">\n",
              "\n",
              "  <svg xmlns=\"http://www.w3.org/2000/svg\" height=\"24px\" viewBox=\"0 -960 960 960\">\n",
              "    <path d=\"M120-120v-720h720v720H120Zm60-500h600v-160H180v160Zm220 220h160v-160H400v160Zm0 220h160v-160H400v160ZM180-400h160v-160H180v160Zm440 0h160v-160H620v160ZM180-180h160v-160H180v160Zm440 0h160v-160H620v160Z\"/>\n",
              "  </svg>\n",
              "    </button>\n",
              "\n",
              "  <style>\n",
              "    .colab-df-container {\n",
              "      display:flex;\n",
              "      gap: 12px;\n",
              "    }\n",
              "\n",
              "    .colab-df-convert {\n",
              "      background-color: #E8F0FE;\n",
              "      border: none;\n",
              "      border-radius: 50%;\n",
              "      cursor: pointer;\n",
              "      display: none;\n",
              "      fill: #1967D2;\n",
              "      height: 32px;\n",
              "      padding: 0 0 0 0;\n",
              "      width: 32px;\n",
              "    }\n",
              "\n",
              "    .colab-df-convert:hover {\n",
              "      background-color: #E2EBFA;\n",
              "      box-shadow: 0px 1px 2px rgba(60, 64, 67, 0.3), 0px 1px 3px 1px rgba(60, 64, 67, 0.15);\n",
              "      fill: #174EA6;\n",
              "    }\n",
              "\n",
              "    .colab-df-buttons div {\n",
              "      margin-bottom: 4px;\n",
              "    }\n",
              "\n",
              "    [theme=dark] .colab-df-convert {\n",
              "      background-color: #3B4455;\n",
              "      fill: #D2E3FC;\n",
              "    }\n",
              "\n",
              "    [theme=dark] .colab-df-convert:hover {\n",
              "      background-color: #434B5C;\n",
              "      box-shadow: 0px 1px 3px 1px rgba(0, 0, 0, 0.15);\n",
              "      filter: drop-shadow(0px 1px 2px rgba(0, 0, 0, 0.3));\n",
              "      fill: #FFFFFF;\n",
              "    }\n",
              "  </style>\n",
              "\n",
              "    <script>\n",
              "      const buttonEl =\n",
              "        document.querySelector('#df-afdbbc7f-79dd-49b1-8e93-fd5c853a9097 button.colab-df-convert');\n",
              "      buttonEl.style.display =\n",
              "        google.colab.kernel.accessAllowed ? 'block' : 'none';\n",
              "\n",
              "      async function convertToInteractive(key) {\n",
              "        const element = document.querySelector('#df-afdbbc7f-79dd-49b1-8e93-fd5c853a9097');\n",
              "        const dataTable =\n",
              "          await google.colab.kernel.invokeFunction('convertToInteractive',\n",
              "                                                    [key], {});\n",
              "        if (!dataTable) return;\n",
              "\n",
              "        const docLinkHtml = 'Like what you see? Visit the ' +\n",
              "          '<a target=\"_blank\" href=https://colab.research.google.com/notebooks/data_table.ipynb>data table notebook</a>'\n",
              "          + ' to learn more about interactive tables.';\n",
              "        element.innerHTML = '';\n",
              "        dataTable['output_type'] = 'display_data';\n",
              "        await google.colab.output.renderOutput(dataTable, element);\n",
              "        const docLink = document.createElement('div');\n",
              "        docLink.innerHTML = docLinkHtml;\n",
              "        element.appendChild(docLink);\n",
              "      }\n",
              "    </script>\n",
              "  </div>\n",
              "\n",
              "\n",
              "    </div>\n",
              "  </div>\n"
            ],
            "application/vnd.google.colaboratory.intrinsic+json": {
              "type": "dataframe",
              "repr_error": "Out of range float values are not JSON compliant: nan"
            }
          },
          "metadata": {},
          "execution_count": 20
        }
      ]
    },
    {
      "cell_type": "markdown",
      "source": [
        "**Détection et traitement des valeurs aberrantes**"
      ],
      "metadata": {
        "id": "DeuQXVP5VnM1"
      }
    },
    {
      "cell_type": "markdown",
      "source": [
        "-  visualiser les outliers présents dans les colonnes numériques de df\n",
        "\n",
        "> Ajouter une citation\n",
        "\n"
      ],
      "metadata": {
        "id": "iXz1Fg60Vzuo"
      }
    },
    {
      "cell_type": "code",
      "execution_count": 21,
      "metadata": {
        "colab": {
          "base_uri": "https://localhost:8080/",
          "height": 321
        },
        "id": "btNCYB3emGpU",
        "outputId": "fdfc9647-4844-42af-a8c7-4114225b1e07"
      },
      "outputs": [
        {
          "output_type": "display_data",
          "data": {
            "text/plain": [
              "<Figure size 1800x500 with 1 Axes>"
            ],
            "image/png": "[encoded data removed]"
          },
          "metadata": {}
        }
      ],
      "source": [
        "plt.figure(figsize=(18,5))\n",
        "sns.boxplot(df)\n",
        "plt.show()"
      ]
    },
    {
      "cell_type": "markdown",
      "source": [
        "- Détection et suppression des valeurs aberrantes par la méthode IQR\n"
      ],
      "metadata": {
        "id": "UHPMyGpaWRx7"
      }
    },
    {
      "cell_type": "code",
      "source": [
        "Q1 = df[\"price\"].quantile(0.25)\n",
        "Q3 = df[\"price\"].quantile(0.75)\n",
        "IQR = Q3 - Q1\n",
        "\n",
        "Borne_min = Q1 - 1.5 * IQR\n",
        "Borne_max = Q3 + 1.5 * IQR\n",
        "\n",
        "Outliers = df[(df[\"price\"] < Borne_min) | (df[\"price\"] > Borne_max)]\n",
        "print(\"Les valeurs extrêmes dans la colonne 'price' sont :\")\n",
        "print(Outliers[\"price\"])\n",
        "\n",
        "df_outliers_imputés = df.copy()\n",
        "\n",
        "Q1 = df[\"price\"].quantile(0.25)\n",
        "Q3 = df[\"price\"].quantile(0.75)\n",
        "IQR = Q3 - Q1\n",
        "\n",
        "seuil_bas = Q1 - 1.5 * IQR\n",
        "seuil_haut= Q3 + 1.5 * IQR\n",
        "\n",
        "df_outliers_imputés = df[(df[\"price\"] >= seuil_bas) & (df[\"price\"] <= seuil_haut)]\n",
        "print(df[\"price\"])\n",
        "print(df.shape)\n",
        "\n"
      ],
      "metadata": {
        "colab": {
          "base_uri": "https://localhost:8080/"
        },
        "id": "WxpuV9yOf04W",
        "outputId": "dad4e3d2-7ddc-4a25-e8df-63c82bf8fd6e"
      },
      "execution_count": 22,
      "outputs": [
        {
          "output_type": "stream",
          "name": "stdout",
          "text": [
            "Les valeurs extrêmes dans la colonne 'price' sont :\n",
            "4       3100000.0\n",
            "5       3200000.0\n",
            "23      5500000.0\n",
            "65      2850000.0\n",
            "78      2900000.0\n",
            "          ...    \n",
            "1612    3300000.0\n",
            "1621    3000000.0\n",
            "1638    3600000.0\n",
            "1721    3800000.0\n",
            "1754    3300000.0\n",
            "Name: price, Length: 96, dtype: float64\n",
            "0       2000000.0\n",
            "1       1195000.0\n",
            "2       1350000.0\n",
            "3        900000.0\n",
            "4       3100000.0\n",
            "          ...    \n",
            "1765     300000.0\n",
            "1766       3500.0\n",
            "1767     700000.0\n",
            "1771     700000.0\n",
            "1772    1200000.0\n",
            "Name: price, Length: 1490, dtype: float64\n",
            "(1490, 17)\n"
          ]
        }
      ]
    },
    {
      "cell_type": "markdown",
      "source": [
        "-  visualiser les outliers présents dans les colonnes numériques de df_outliers_imputés (NV DATAFRAME)\n",
        "\n",
        "\n"
      ],
      "metadata": {
        "id": "s0_wGwtIWhIX"
      }
    },
    {
      "cell_type": "code",
      "execution_count": 23,
      "metadata": {
        "colab": {
          "base_uri": "https://localhost:8080/",
          "height": 321
        },
        "id": "_NIZXrCLrnrM",
        "outputId": "98327b09-91e3-4e43-dbe3-cc5696f57df7"
      },
      "outputs": [
        {
          "output_type": "display_data",
          "data": {
            "text/plain": [
              "<Figure size 1800x500 with 1 Axes>"
            ],
            "image/png": "[encoded data removed]"
          },
          "metadata": {}
        }
      ],
      "source": [
        "plt.figure(figsize=(18,5))\n",
        "sns.boxplot(df_outliers_imputés)\n",
        "plt.show()"
      ]
    },
    {
      "cell_type": "markdown",
      "source": [
        "- Encodage de la variable city_name avec LabelEncoder"
      ],
      "metadata": {
        "id": "g89c7sAgW-AT"
      }
    },
    {
      "cell_type": "code",
      "execution_count": 24,
      "metadata": {
        "colab": {
          "base_uri": "https://localhost:8080/"
        },
        "id": "1yCWziKesLgy",
        "outputId": "35a1d62b-ded0-403a-e516-b69c435cfb28"
      },
      "outputs": [
        {
          "output_type": "stream",
          "name": "stdout",
          "text": [
            "0       12\n",
            "1       12\n",
            "2       14\n",
            "3       12\n",
            "6       30\n",
            "        ..\n",
            "1765    34\n",
            "1766    58\n",
            "1767    53\n",
            "1771    12\n",
            "1772    55\n",
            "Name: city_name, Length: 1394, dtype: int64\n"
          ]
        },
        {
          "output_type": "stream",
          "name": "stderr",
          "text": [
            "/tmp/ipython-input-24-1034397818.py:4: SettingWithCopyWarning: \n",
            "A value is trying to be set on a copy of a slice from a DataFrame.\n",
            "Try using .loc[row_indexer,col_indexer] = value instead\n",
            "\n",
            "See the caveats in the documentation: https://pandas.pydata.org/pandas-docs/stable/user_guide/indexing.html#returning-a-view-versus-a-copy\n",
            "  df_outliers_imputés[\"city_name\"] = le.fit_transform(df_outliers_imputés[\"city_name\"])\n"
          ]
        }
      ],
      "source": [
        "from sklearn.preprocessing import LabelEncoder\n",
        "\n",
        "le = LabelEncoder()\n",
        "df_outliers_imputés[\"city_name\"] = le.fit_transform(df_outliers_imputés[\"city_name\"])\n",
        "print(df_outliers_imputés[\"city_name\"])\n"
      ]
    },
    {
      "cell_type": "markdown",
      "source": [
        "- Mise à l’échelle des variables numériques"
      ],
      "metadata": {
        "id": "SOl1XlaIXJ0k"
      }
    },
    {
      "cell_type": "code",
      "execution_count": 25,
      "metadata": {
        "id": "fZgETdoPsVrG",
        "colab": {
          "base_uri": "https://localhost:8080/"
        },
        "outputId": "69f263ce-0be5-4d1d-a689-86923240e6d8"
      },
      "outputs": [
        {
          "output_type": "stream",
          "name": "stderr",
          "text": [
            "/tmp/ipython-input-25-2632551842.py:2: SettingWithCopyWarning: \n",
            "A value is trying to be set on a copy of a slice from a DataFrame.\n",
            "Try using .loc[row_indexer,col_indexer] = value instead\n",
            "\n",
            "See the caveats in the documentation: https://pandas.pydata.org/pandas-docs/stable/user_guide/indexing.html#returning-a-view-versus-a-copy\n",
            "  df_outliers_imputés[colonnes_numeriques]=MinMaxScaler().fit_transform(df_outliers_imputés[colonnes_numeriques])\n"
          ]
        }
      ],
      "source": [
        "from sklearn.preprocessing import MinMaxScaler, StandardScaler\n",
        "df_outliers_imputés[colonnes_numeriques]=MinMaxScaler().fit_transform(df_outliers_imputés[colonnes_numeriques])"
      ]
    },
    {
      "cell_type": "markdown",
      "source": [
        "- Affichage du jeu de données final après prétraitement\n",
        "\n"
      ],
      "metadata": {
        "id": "lcpvmlt1XwIi"
      }
    },
    {
      "cell_type": "code",
      "execution_count": 26,
      "metadata": {
        "colab": {
          "base_uri": "https://localhost:8080/",
          "height": 461
        },
        "id": "PiGQr6mJsbHM",
        "outputId": "65cc8e1c-546b-4bb7-b947-a30db7dda087"
      },
      "outputs": [
        {
          "output_type": "execute_result",
          "data": {
            "text/plain": [
              "          price  city_name  salon  nb_rooms  nb_baths  surface_area  \\\n",
              "0     2000000.0         12   0.25  0.166667  0.014925      0.418546   \n",
              "1     1195000.0         12   0.25  0.166667  0.014925      0.243108   \n",
              "2     1350000.0         14   0.25  0.166667  0.014925      0.200501   \n",
              "3      900000.0         12   0.25  0.000000  0.007463      0.137845   \n",
              "6      760000.0         30   0.25  0.333333  0.022388      0.243108   \n",
              "...         ...        ...    ...       ...       ...           ...   \n",
              "1765   300000.0         34   0.25  0.333333  0.007463      0.147870   \n",
              "1766     3500.0         58   0.25  0.166667  0.014925      0.210526   \n",
              "1767   700000.0         53   0.25  0.166667  0.007463      0.172932   \n",
              "1771   700000.0         12   0.25  0.166667  0.014925      0.208020   \n",
              "1772  1200000.0         55   0.25  0.166667  0.014925      0.208020   \n",
              "\n",
              "      Ascenseur  Balcon  Chauffage  Climatisation  Concierge  Cuisine Équipée  \\\n",
              "0           1.0     1.0        0.0            0.0        0.0              0.0   \n",
              "1           1.0     1.0        1.0            1.0        0.0              1.0   \n",
              "2           1.0     1.0        1.0            1.0        1.0              1.0   \n",
              "3           1.0     0.0        1.0            1.0        0.0              1.0   \n",
              "6           1.0     1.0        0.0            0.0        1.0              1.0   \n",
              "...         ...     ...        ...            ...        ...              ...   \n",
              "1765        1.0     0.0        0.0            0.0        1.0              0.0   \n",
              "1766        1.0     1.0        0.0            0.0        0.0              1.0   \n",
              "1767        1.0     1.0        0.0            0.0        0.0              0.0   \n",
              "1771        0.0     0.0        0.0            0.0        0.0              1.0   \n",
              "1772        1.0     1.0        0.0            1.0        1.0              1.0   \n",
              "\n",
              "      Duplex  Meublé  Parking  Sécurité  Terrasse  \n",
              "0        0.0     0.0      1.0       0.0       1.0  \n",
              "1        0.0     0.0      1.0       0.0       0.0  \n",
              "2        1.0     0.0      1.0       1.0       1.0  \n",
              "3        0.0     1.0      1.0       1.0       1.0  \n",
              "6        0.0     0.0      1.0       1.0       0.0  \n",
              "...      ...     ...      ...       ...       ...  \n",
              "1765     0.0     0.0      1.0       1.0       0.0  \n",
              "1766     0.0     1.0      0.0       1.0       0.0  \n",
              "1767     0.0     0.0      0.0       0.0       0.0  \n",
              "1771     0.0     0.0      1.0       1.0       0.0  \n",
              "1772     0.0     0.0      1.0       1.0       1.0  \n",
              "\n",
              "[1394 rows x 17 columns]"
            ],
            "text/html": [
              "\n",
              "  <div id=\"df-4e25bc3d-74e1-4b1c-948a-66c3f61807a0\" class=\"colab-df-container\">\n",
              "    <div>\n",
              "<style scoped>\n",
              "    .dataframe tbody tr th:only-of-type {\n",
              "        vertical-align: middle;\n",
              "    }\n",
              "\n",
              "    .dataframe tbody tr th {\n",
              "        vertical-align: top;\n",
              "    }\n",
              "\n",
              "    .dataframe thead th {\n",
              "        text-align: right;\n",
              "    }\n",
              "</style>\n",
              "<table border=\"1\" class=\"dataframe\">\n",
              "  <thead>\n",
              "    <tr style=\"text-align: right;\">\n",
              "      <th></th>\n",
              "      <th>price</th>\n",
              "      <th>city_name</th>\n",
              "      <th>salon</th>\n",
              "      <th>nb_rooms</th>\n",
              "      <th>nb_baths</th>\n",
              "      <th>surface_area</th>\n",
              "      <th>Ascenseur</th>\n",
              "      <th>Balcon</th>\n",
              "      <th>Chauffage</th>\n",
              "      <th>Climatisation</th>\n",
              "      <th>Concierge</th>\n",
              "      <th>Cuisine Équipée</th>\n",
              "      <th>Duplex</th>\n",
              "      <th>Meublé</th>\n",
              "      <th>Parking</th>\n",
              "      <th>Sécurité</th>\n",
              "      <th>Terrasse</th>\n",
              "    </tr>\n",
              "  </thead>\n",
              "  <tbody>\n",
              "    <tr>\n",
              "      <th>0</th>\n",
              "      <td>2000000.0</td>\n",
              "      <td>12</td>\n",
              "      <td>0.25</td>\n",
              "      <td>0.166667</td>\n",
              "      <td>0.014925</td>\n",
              "      <td>0.418546</td>\n",
              "      <td>1.0</td>\n",
              "      <td>1.0</td>\n",
              "      <td>0.0</td>\n",
              "      <td>0.0</td>\n",
              "      <td>0.0</td>\n",
              "      <td>0.0</td>\n",
              "      <td>0.0</td>\n",
              "      <td>0.0</td>\n",
              "      <td>1.0</td>\n",
              "      <td>0.0</td>\n",
              "      <td>1.0</td>\n",
              "    </tr>\n",
              "    <tr>\n",
              "      <th>1</th>\n",
              "      <td>1195000.0</td>\n",
              "      <td>12</td>\n",
              "      <td>0.25</td>\n",
              "      <td>0.166667</td>\n",
              "      <td>0.014925</td>\n",
              "      <td>0.243108</td>\n",
              "      <td>1.0</td>\n",
              "      <td>1.0</td>\n",
              "      <td>1.0</td>\n",
              "      <td>1.0</td>\n",
              "      <td>0.0</td>\n",
              "      <td>1.0</td>\n",
              "      <td>0.0</td>\n",
              "      <td>0.0</td>\n",
              "      <td>1.0</td>\n",
              "      <td>0.0</td>\n",
              "      <td>0.0</td>\n",
              "    </tr>\n",
              "    <tr>\n",
              "      <th>2</th>\n",
              "      <td>1350000.0</td>\n",
              "      <td>14</td>\n",
              "      <td>0.25</td>\n",
              "      <td>0.166667</td>\n",
              "      <td>0.014925</td>\n",
              "      <td>0.200501</td>\n",
              "      <td>1.0</td>\n",
              "      <td>1.0</td>\n",
              "      <td>1.0</td>\n",
              "      <td>1.0</td>\n",
              "      <td>1.0</td>\n",
              "      <td>1.0</td>\n",
              "      <td>1.0</td>\n",
              "      <td>0.0</td>\n",
              "      <td>1.0</td>\n",
              "      <td>1.0</td>\n",
              "      <td>1.0</td>\n",
              "    </tr>\n",
              "    <tr>\n",
              "      <th>3</th>\n",
              "      <td>900000.0</td>\n",
              "      <td>12</td>\n",
              "      <td>0.25</td>\n",
              "      <td>0.000000</td>\n",
              "      <td>0.007463</td>\n",
              "      <td>0.137845</td>\n",
              "      <td>1.0</td>\n",
              "      <td>0.0</td>\n",
              "      <td>1.0</td>\n",
              "      <td>1.0</td>\n",
              "      <td>0.0</td>\n",
              "      <td>1.0</td>\n",
              "      <td>0.0</td>\n",
              "      <td>1.0</td>\n",
              "      <td>1.0</td>\n",
              "      <td>1.0</td>\n",
              "      <td>1.0</td>\n",
              "    </tr>\n",
              "    <tr>\n",
              "      <th>6</th>\n",
              "      <td>760000.0</td>\n",
              "      <td>30</td>\n",
              "      <td>0.25</td>\n",
              "      <td>0.333333</td>\n",
              "      <td>0.022388</td>\n",
              "      <td>0.243108</td>\n",
              "      <td>1.0</td>\n",
              "      <td>1.0</td>\n",
              "      <td>0.0</td>\n",
              "      <td>0.0</td>\n",
              "      <td>1.0</td>\n",
              "      <td>1.0</td>\n",
              "      <td>0.0</td>\n",
              "      <td>0.0</td>\n",
              "      <td>1.0</td>\n",
              "      <td>1.0</td>\n",
              "      <td>0.0</td>\n",
              "    </tr>\n",
              "    <tr>\n",
              "      <th>...</th>\n",
              "      <td>...</td>\n",
              "      <td>...</td>\n",
              "      <td>...</td>\n",
              "      <td>...</td>\n",
              "      <td>...</td>\n",
              "      <td>...</td>\n",
              "      <td>...</td>\n",
              "      <td>...</td>\n",
              "      <td>...</td>\n",
              "      <td>...</td>\n",
              "      <td>...</td>\n",
              "      <td>...</td>\n",
              "      <td>...</td>\n",
              "      <td>...</td>\n",
              "      <td>...</td>\n",
              "      <td>...</td>\n",
              "      <td>...</td>\n",
              "    </tr>\n",
              "    <tr>\n",
              "      <th>1765</th>\n",
              "      <td>300000.0</td>\n",
              "      <td>34</td>\n",
              "      <td>0.25</td>\n",
              "      <td>0.333333</td>\n",
              "      <td>0.007463</td>\n",
              "      <td>0.147870</td>\n",
              "      <td>1.0</td>\n",
              "      <td>0.0</td>\n",
              "      <td>0.0</td>\n",
              "      <td>0.0</td>\n",
              "      <td>1.0</td>\n",
              "      <td>0.0</td>\n",
              "      <td>0.0</td>\n",
              "      <td>0.0</td>\n",
              "      <td>1.0</td>\n",
              "      <td>1.0</td>\n",
              "      <td>0.0</td>\n",
              "    </tr>\n",
              "    <tr>\n",
              "      <th>1766</th>\n",
              "      <td>3500.0</td>\n",
              "      <td>58</td>\n",
              "      <td>0.25</td>\n",
              "      <td>0.166667</td>\n",
              "      <td>0.014925</td>\n",
              "      <td>0.210526</td>\n",
              "      <td>1.0</td>\n",
              "      <td>1.0</td>\n",
              "      <td>0.0</td>\n",
              "      <td>0.0</td>\n",
              "      <td>0.0</td>\n",
              "      <td>1.0</td>\n",
              "      <td>0.0</td>\n",
              "      <td>1.0</td>\n",
              "      <td>0.0</td>\n",
              "      <td>1.0</td>\n",
              "      <td>0.0</td>\n",
              "    </tr>\n",
              "    <tr>\n",
              "      <th>1767</th>\n",
              "      <td>700000.0</td>\n",
              "      <td>53</td>\n",
              "      <td>0.25</td>\n",
              "      <td>0.166667</td>\n",
              "      <td>0.007463</td>\n",
              "      <td>0.172932</td>\n",
              "      <td>1.0</td>\n",
              "      <td>1.0</td>\n",
              "      <td>0.0</td>\n",
              "      <td>0.0</td>\n",
              "      <td>0.0</td>\n",
              "      <td>0.0</td>\n",
              "      <td>0.0</td>\n",
              "      <td>0.0</td>\n",
              "      <td>0.0</td>\n",
              "      <td>0.0</td>\n",
              "      <td>0.0</td>\n",
              "    </tr>\n",
              "    <tr>\n",
              "      <th>1771</th>\n",
              "      <td>700000.0</td>\n",
              "      <td>12</td>\n",
              "      <td>0.25</td>\n",
              "      <td>0.166667</td>\n",
              "      <td>0.014925</td>\n",
              "      <td>0.208020</td>\n",
              "      <td>0.0</td>\n",
              "      <td>0.0</td>\n",
              "      <td>0.0</td>\n",
              "      <td>0.0</td>\n",
              "      <td>0.0</td>\n",
              "      <td>1.0</td>\n",
              "      <td>0.0</td>\n",
              "      <td>0.0</td>\n",
              "      <td>1.0</td>\n",
              "      <td>1.0</td>\n",
              "      <td>0.0</td>\n",
              "    </tr>\n",
              "    <tr>\n",
              "      <th>1772</th>\n",
              "      <td>1200000.0</td>\n",
              "      <td>55</td>\n",
              "      <td>0.25</td>\n",
              "      <td>0.166667</td>\n",
              "      <td>0.014925</td>\n",
              "      <td>0.208020</td>\n",
              "      <td>1.0</td>\n",
              "      <td>1.0</td>\n",
              "      <td>0.0</td>\n",
              "      <td>1.0</td>\n",
              "      <td>1.0</td>\n",
              "      <td>1.0</td>\n",
              "      <td>0.0</td>\n",
              "      <td>0.0</td>\n",
              "      <td>1.0</td>\n",
              "      <td>1.0</td>\n",
              "      <td>1.0</td>\n",
              "    </tr>\n",
              "  </tbody>\n",
              "</table>\n",
              "<p>1394 rows × 17 columns</p>\n",
              "</div>\n",
              "    <div class=\"colab-df-buttons\">\n",
              "\n",
              "  <div class=\"colab-df-container\">\n",
              "    <button class=\"colab-df-convert\" onclick=\"convertToInteractive('df-4e25bc3d-74e1-4b1c-948a-66c3f61807a0')\"\n",
              "            title=\"Convert this dataframe to an interactive table.\"\n",
              "            style=\"display:none;\">\n",
              "\n",
              "  <svg xmlns=\"http://www.w3.org/2000/svg\" height=\"24px\" viewBox=\"0 -960 960 960\">\n",
              "    <path d=\"M120-120v-720h720v720H120Zm60-500h600v-160H180v160Zm220 220h160v-160H400v160Zm0 220h160v-160H400v160ZM180-400h160v-160H180v160Zm440 0h160v-160H620v160ZM180-180h160v-160H180v160Zm440 0h160v-160H620v160Z\"/>\n",
              "  </svg>\n",
              "    </button>\n",
              "\n",
              "  <style>\n",
              "    .colab-df-container {\n",
              "      display:flex;\n",
              "      gap: 12px;\n",
              "    }\n",
              "\n",
              "    .colab-df-convert {\n",
              "      background-color: #E8F0FE;\n",
              "      border: none;\n",
              "      border-radius: 50%;\n",
              "      cursor: pointer;\n",
              "      display: none;\n",
              "      fill: #1967D2;\n",
              "      height: 32px;\n",
              "      padding: 0 0 0 0;\n",
              "      width: 32px;\n",
              "    }\n",
              "\n",
              "    .colab-df-convert:hover {\n",
              "      background-color: #E2EBFA;\n",
              "      box-shadow: 0px 1px 2px rgba(60, 64, 67, 0.3), 0px 1px 3px 1px rgba(60, 64, 67, 0.15);\n",
              "      fill: #174EA6;\n",
              "    }\n",
              "\n",
              "    .colab-df-buttons div {\n",
              "      margin-bottom: 4px;\n",
              "    }\n",
              "\n",
              "    [theme=dark] .colab-df-convert {\n",
              "      background-color: #3B4455;\n",
              "      fill: #D2E3FC;\n",
              "    }\n",
              "\n",
              "    [theme=dark] .colab-df-convert:hover {\n",
              "      background-color: #434B5C;\n",
              "      box-shadow: 0px 1px 3px 1px rgba(0, 0, 0, 0.15);\n",
              "      filter: drop-shadow(0px 1px 2px rgba(0, 0, 0, 0.3));\n",
              "      fill: #FFFFFF;\n",
              "    }\n",
              "  </style>\n",
              "\n",
              "    <script>\n",
              "      const buttonEl =\n",
              "        document.querySelector('#df-4e25bc3d-74e1-4b1c-948a-66c3f61807a0 button.colab-df-convert');\n",
              "      buttonEl.style.display =\n",
              "        google.colab.kernel.accessAllowed ? 'block' : 'none';\n",
              "\n",
              "      async function convertToInteractive(key) {\n",
              "        const element = document.querySelector('#df-4e25bc3d-74e1-4b1c-948a-66c3f61807a0');\n",
              "        const dataTable =\n",
              "          await google.colab.kernel.invokeFunction('convertToInteractive',\n",
              "                                                    [key], {});\n",
              "        if (!dataTable) return;\n",
              "\n",
              "        const docLinkHtml = 'Like what you see? Visit the ' +\n",
              "          '<a target=\"_blank\" href=https://colab.research.google.com/notebooks/data_table.ipynb>data table notebook</a>'\n",
              "          + ' to learn more about interactive tables.';\n",
              "        element.innerHTML = '';\n",
              "        dataTable['output_type'] = 'display_data';\n",
              "        await google.colab.output.renderOutput(dataTable, element);\n",
              "        const docLink = document.createElement('div');\n",
              "        docLink.innerHTML = docLinkHtml;\n",
              "        element.appendChild(docLink);\n",
              "      }\n",
              "    </script>\n",
              "  </div>\n",
              "\n",
              "\n",
              "    <div id=\"df-2fd3b6b4-ee05-4048-84c3-50bc619c2fcc\">\n",
              "      <button class=\"colab-df-quickchart\" onclick=\"quickchart('df-2fd3b6b4-ee05-4048-84c3-50bc619c2fcc')\"\n",
              "                title=\"Suggest charts\"\n",
              "                style=\"display:none;\">\n",
              "\n",
              "<svg xmlns=\"http://www.w3.org/2000/svg\" height=\"24px\"viewBox=\"0 0 24 24\"\n",
              "     width=\"24px\">\n",
              "    <g>\n",
              "        <path d=\"M19 3H5c-1.1 0-2 .9-2 2v14c0 1.1.9 2 2 2h14c1.1 0 2-.9 2-2V5c0-1.1-.9-2-2-2zM9 17H7v-7h2v7zm4 0h-2V7h2v10zm4 0h-2v-4h2v4z\"/>\n",
              "    </g>\n",
              "</svg>\n",
              "      </button>\n",
              "\n",
              "<style>\n",
              "  .colab-df-quickchart {\n",
              "      --bg-color: #E8F0FE;\n",
              "      --fill-color: #1967D2;\n",
              "      --hover-bg-color: #E2EBFA;\n",
              "      --hover-fill-color: #174EA6;\n",
              "      --disabled-fill-color: #AAA;\n",
              "      --disabled-bg-color: #DDD;\n",
              "  }\n",
              "\n",
              "  [theme=dark] .colab-df-quickchart {\n",
              "      --bg-color: #3B4455;\n",
              "      --fill-color: #D2E3FC;\n",
              "      --hover-bg-color: #434B5C;\n",
              "      --hover-fill-color: #FFFFFF;\n",
              "      --disabled-bg-color: #3B4455;\n",
              "      --disabled-fill-color: #666;\n",
              "  }\n",
              "\n",
              "  .colab-df-quickchart {\n",
              "    background-color: var(--bg-color);\n",
              "    border: none;\n",
              "    border-radius: 50%;\n",
              "    cursor: pointer;\n",
              "    display: none;\n",
              "    fill: var(--fill-color);\n",
              "    height: 32px;\n",
              "    padding: 0;\n",
              "    width: 32px;\n",
              "  }\n",
              "\n",
              "  .colab-df-quickchart:hover {\n",
              "    background-color: var(--hover-bg-color);\n",
              "    box-shadow: 0 1px 2px rgba(60, 64, 67, 0.3), 0 1px 3px 1px rgba(60, 64, 67, 0.15);\n",
              "    fill: var(--button-hover-fill-color);\n",
              "  }\n",
              "\n",
              "  .colab-df-quickchart-complete:disabled,\n",
              "  .colab-df-quickchart-complete:disabled:hover {\n",
              "    background-color: var(--disabled-bg-color);\n",
              "    fill: var(--disabled-fill-color);\n",
              "    box-shadow: none;\n",
              "  }\n",
              "\n",
              "  .colab-df-spinner {\n",
              "    border: 2px solid var(--fill-color);\n",
              "    border-color: transparent;\n",
              "    border-bottom-color: var(--fill-color);\n",
              "    animation:\n",
              "      spin 1s steps(1) infinite;\n",
              "  }\n",
              "\n",
              "  @keyframes spin {\n",
              "    0% {\n",
              "      border-color: transparent;\n",
              "      border-bottom-color: var(--fill-color);\n",
              "      border-left-color: var(--fill-color);\n",
              "    }\n",
              "    20% {\n",
              "      border-color: transparent;\n",
              "      border-left-color: var(--fill-color);\n",
              "      border-top-color: var(--fill-color);\n",
              "    }\n",
              "    30% {\n",
              "      border-color: transparent;\n",
              "      border-left-color: var(--fill-color);\n",
              "      border-top-color: var(--fill-color);\n",
              "      border-right-color: var(--fill-color);\n",
              "    }\n",
              "    40% {\n",
              "      border-color: transparent;\n",
              "      border-right-color: var(--fill-color);\n",
              "      border-top-color: var(--fill-color);\n",
              "    }\n",
              "    60% {\n",
              "      border-color: transparent;\n",
              "      border-right-color: var(--fill-color);\n",
              "    }\n",
              "    80% {\n",
              "      border-color: transparent;\n",
              "      border-right-color: var(--fill-color);\n",
              "      border-bottom-color: var(--fill-color);\n",
              "    }\n",
              "    90% {\n",
              "      border-color: transparent;\n",
              "      border-bottom-color: var(--fill-color);\n",
              "    }\n",
              "  }\n",
              "</style>\n",
              "\n",
              "      <script>\n",
              "        async function quickchart(key) {\n",
              "          const quickchartButtonEl =\n",
              "            document.querySelector('#' + key + ' button');\n",
              "          quickchartButtonEl.disabled = true;  // To prevent multiple clicks.\n",
              "          quickchartButtonEl.classList.add('colab-df-spinner');\n",
              "          try {\n",
              "            const charts = await google.colab.kernel.invokeFunction(\n",
              "                'suggestCharts', [key], {});\n",
              "          } catch (error) {\n",
              "            console.error('Error during call to suggestCharts:', error);\n",
              "          }\n",
              "          quickchartButtonEl.classList.remove('colab-df-spinner');\n",
              "          quickchartButtonEl.classList.add('colab-df-quickchart-complete');\n",
              "        }\n",
              "        (() => {\n",
              "          let quickchartButtonEl =\n",
              "            document.querySelector('#df-2fd3b6b4-ee05-4048-84c3-50bc619c2fcc button');\n",
              "          quickchartButtonEl.style.display =\n",
              "            google.colab.kernel.accessAllowed ? 'block' : 'none';\n",
              "        })();\n",
              "      </script>\n",
              "    </div>\n",
              "\n",
              "  <div id=\"id_37944421-77d6-4745-a4d6-8b5b888d1866\">\n",
              "    <style>\n",
              "      .colab-df-generate {\n",
              "        background-color: #E8F0FE;\n",
              "        border: none;\n",
              "        border-radius: 50%;\n",
              "        cursor: pointer;\n",
              "        display: none;\n",
              "        fill: #1967D2;\n",
              "        height: 32px;\n",
              "        padding: 0 0 0 0;\n",
              "        width: 32px;\n",
              "      }\n",
              "\n",
              "      .colab-df-generate:hover {\n",
              "        background-color: #E2EBFA;\n",
              "        box-shadow: 0px 1px 2px rgba(60, 64, 67, 0.3), 0px 1px 3px 1px rgba(60, 64, 67, 0.15);\n",
              "        fill: #174EA6;\n",
              "      }\n",
              "\n",
              "      [theme=dark] .colab-df-generate {\n",
              "        background-color: #3B4455;\n",
              "        fill: #D2E3FC;\n",
              "      }\n",
              "\n",
              "      [theme=dark] .colab-df-generate:hover {\n",
              "        background-color: #434B5C;\n",
              "        box-shadow: 0px 1px 3px 1px rgba(0, 0, 0, 0.15);\n",
              "        filter: drop-shadow(0px 1px 2px rgba(0, 0, 0, 0.3));\n",
              "        fill: #FFFFFF;\n",
              "      }\n",
              "    </style>\n",
              "    <button class=\"colab-df-generate\" onclick=\"generateWithVariable('df_outliers_imputés')\"\n",
              "            title=\"Generate code using this dataframe.\"\n",
              "            style=\"display:none;\">\n",
              "\n",
              "  <svg xmlns=\"http://www.w3.org/2000/svg\" height=\"24px\"viewBox=\"0 0 24 24\"\n",
              "       width=\"24px\">\n",
              "    <path d=\"M7,19H8.4L18.45,9,17,7.55,7,17.6ZM5,21V16.75L18.45,3.32a2,2,0,0,1,2.83,0l1.4,1.43a1.91,1.91,0,0,1,.58,1.4,1.91,1.91,0,0,1-.58,1.4L9.25,21ZM18.45,9,17,7.55Zm-12,3A5.31,5.31,0,0,0,4.9,8.1,5.31,5.31,0,0,0,1,6.5,5.31,5.31,0,0,0,4.9,4.9,5.31,5.31,0,0,0,6.5,1,5.31,5.31,0,0,0,8.1,4.9,5.31,5.31,0,0,0,12,6.5,5.46,5.46,0,0,0,6.5,12Z\"/>\n",
              "  </svg>\n",
              "    </button>\n",
              "    <script>\n",
              "      (() => {\n",
              "      const buttonEl =\n",
              "        document.querySelector('#id_37944421-77d6-4745-a4d6-8b5b888d1866 button.colab-df-generate');\n",
              "      buttonEl.style.display =\n",
              "        google.colab.kernel.accessAllowed ? 'block' : 'none';\n",
              "\n",
              "      buttonEl.onclick = () => {\n",
              "        google.colab.notebook.generateWithVariable('df_outliers_imputés');\n",
              "      }\n",
              "      })();\n",
              "    </script>\n",
              "  </div>\n",
              "\n",
              "    </div>\n",
              "  </div>\n"
            ],
            "application/vnd.google.colaboratory.intrinsic+json": {
              "type": "dataframe",
              "variable_name": "df_outliers_imputés",
              "summary": "{\n  \"name\": \"df_outliers_imput\\u00e9s\",\n  \"rows\": 1394,\n  \"fields\": [\n    {\n      \"column\": \"price\",\n      \"properties\": {\n        \"dtype\": \"number\",\n        \"std\": 563507.7488691158,\n        \"min\": 35.0,\n        \"max\": 2600000.0,\n        \"num_unique_values\": 314,\n        \"samples\": [\n          937000.0,\n          1050000.0,\n          699000.0\n        ],\n        \"semantic_type\": \"\",\n        \"description\": \"\"\n      }\n    },\n    {\n      \"column\": \"city_name\",\n      \"properties\": {\n        \"dtype\": \"number\",\n        \"std\": 15,\n        \"min\": 0,\n        \"max\": 58,\n        \"num_unique_values\": 59,\n        \"samples\": [\n          12,\n          29,\n          40\n        ],\n        \"semantic_type\": \"\",\n        \"description\": \"\"\n      }\n    },\n    {\n      \"column\": \"salon\",\n      \"properties\": {\n        \"dtype\": \"number\",\n        \"std\": 0.116623478635868,\n        \"min\": 0.0,\n        \"max\": 1.0,\n        \"num_unique_values\": 5,\n        \"samples\": [\n          0.5,\n          1.0,\n          0.75\n        ],\n        \"semantic_type\": \"\",\n        \"description\": \"\"\n      }\n    },\n    {\n      \"column\": \"nb_rooms\",\n      \"properties\": {\n        \"dtype\": \"number\",\n        \"std\": 0.10749448962340587,\n        \"min\": 0.0,\n        \"max\": 0.9999999999999999,\n        \"num_unique_values\": 7,\n        \"samples\": [\n          0.16666666666666666,\n          0.0,\n          0.9999999999999999\n        ],\n        \"semantic_type\": \"\",\n        \"description\": \"\"\n      }\n    },\n    {\n      \"column\": \"nb_baths\",\n      \"properties\": {\n        \"dtype\": \"number\",\n        \"std\": 0.05864215459773792,\n        \"min\": 0.0,\n        \"max\": 1.0,\n        \"num_unique_values\": 14,\n        \"samples\": [\n          1.0,\n          0.4253731343283582,\n          0.014925373134328358\n        ],\n        \"semantic_type\": \"\",\n        \"description\": \"\"\n      }\n    },\n    {\n      \"column\": \"surface_area\",\n      \"properties\": {\n        \"dtype\": \"number\",\n        \"std\": 0.08262055470985001,\n        \"min\": 0.0,\n        \"max\": 1.0,\n        \"num_unique_values\": 157,\n        \"samples\": [\n          0.08020050125313283,\n          0.24561403508771928,\n          0.5238095238095237\n        ],\n        \"semantic_type\": \"\",\n        \"description\": \"\"\n      }\n    },\n    {\n      \"column\": \"Ascenseur\",\n      \"properties\": {\n        \"dtype\": \"number\",\n        \"std\": 0.49819665297813703,\n        \"min\": 0.0,\n        \"max\": 1.0,\n        \"num_unique_values\": 2,\n        \"samples\": [\n          0.0,\n          1.0\n        ],\n        \"semantic_type\": \"\",\n        \"description\": \"\"\n      }\n    },\n    {\n      \"column\": \"Balcon\",\n      \"properties\": {\n        \"dtype\": \"number\",\n        \"std\": 0.4936796764246393,\n        \"min\": 0.0,\n        \"max\": 1.0,\n        \"num_unique_values\": 2,\n        \"samples\": [\n          0.0,\n          1.0\n        ],\n        \"semantic_type\": \"\",\n        \"description\": \"\"\n      }\n    },\n    {\n      \"column\": \"Chauffage\",\n      \"properties\": {\n        \"dtype\": \"number\",\n        \"std\": 0.3751486052022252,\n        \"min\": 0.0,\n        \"max\": 1.0,\n        \"num_unique_values\": 2,\n        \"samples\": [\n          1.0,\n          0.0\n        ],\n        \"semantic_type\": \"\",\n        \"description\": \"\"\n      }\n    },\n    {\n      \"column\": \"Climatisation\",\n      \"properties\": {\n        \"dtype\": \"number\",\n        \"std\": 0.4558086183459226,\n        \"min\": 0.0,\n        \"max\": 1.0,\n        \"num_unique_values\": 2,\n        \"samples\": [\n          1.0,\n          0.0\n        ],\n        \"semantic_type\": \"\",\n        \"description\": \"\"\n      }\n    },\n    {\n      \"column\": \"Concierge\",\n      \"properties\": {\n        \"dtype\": \"number\",\n        \"std\": 0.49402535492733,\n        \"min\": 0.0,\n        \"max\": 1.0,\n        \"num_unique_values\": 2,\n        \"samples\": [\n          1.0,\n          0.0\n        ],\n        \"semantic_type\": \"\",\n        \"description\": \"\"\n      }\n    },\n    {\n      \"column\": \"Cuisine \\u00c9quip\\u00e9e\",\n      \"properties\": {\n        \"dtype\": \"number\",\n        \"std\": 0.49985758914360123,\n        \"min\": 0.0,\n        \"max\": 1.0,\n        \"num_unique_values\": 2,\n        \"samples\": [\n          1.0,\n          0.0\n        ],\n        \"semantic_type\": \"\",\n        \"description\": \"\"\n      }\n    },\n    {\n      \"column\": \"Duplex\",\n      \"properties\": {\n        \"dtype\": \"number\",\n        \"std\": 0.1498154481879931,\n        \"min\": 0.0,\n        \"max\": 1.0,\n        \"num_unique_values\": 2,\n        \"samples\": [\n          1.0,\n          0.0\n        ],\n        \"semantic_type\": \"\",\n        \"description\": \"\"\n      }\n    },\n    {\n      \"column\": \"Meubl\\u00e9\",\n      \"properties\": {\n        \"dtype\": \"number\",\n        \"std\": 0.2987634169483555,\n        \"min\": 0.0,\n        \"max\": 1.0,\n        \"num_unique_values\": 2,\n        \"samples\": [\n          1.0,\n          0.0\n        ],\n        \"semantic_type\": \"\",\n        \"description\": \"\"\n      }\n    },\n    {\n      \"column\": \"Parking\",\n      \"properties\": {\n        \"dtype\": \"number\",\n        \"std\": 0.49826022012428645,\n        \"min\": 0.0,\n        \"max\": 1.0,\n        \"num_unique_values\": 2,\n        \"samples\": [\n          0.0,\n          1.0\n        ],\n        \"semantic_type\": \"\",\n        \"description\": \"\"\n      }\n    },\n    {\n      \"column\": \"S\\u00e9curit\\u00e9\",\n      \"properties\": {\n        \"dtype\": \"number\",\n        \"std\": 0.49965201332197245,\n        \"min\": 0.0,\n        \"max\": 1.0,\n        \"num_unique_values\": 2,\n        \"samples\": [\n          1.0,\n          0.0\n        ],\n        \"semantic_type\": \"\",\n        \"description\": \"\"\n      }\n    },\n    {\n      \"column\": \"Terrasse\",\n      \"properties\": {\n        \"dtype\": \"number\",\n        \"std\": 0.4935623096929751,\n        \"min\": 0.0,\n        \"max\": 1.0,\n        \"num_unique_values\": 2,\n        \"samples\": [\n          0.0,\n          1.0\n        ],\n        \"semantic_type\": \"\",\n        \"description\": \"\"\n      }\n    }\n  ]\n}"
            }
          },
          "metadata": {},
          "execution_count": 26
        }
      ],
      "source": [
        "df_outliers_imputés"
      ]
    },
    {
      "cell_type": "markdown",
      "source": [
        "**Feature Engineering:**\n",
        "- Le Feature Engineering (ou ingénierie des variables) a pour objectif de\n",
        "créer, transformer ou sélectionner des variables (features) à partir des données brutes, afin d’améliorer la performance des modèles de Machine Learning.\n",
        "\n",
        "**🔍 En résumé :**\n",
        "- Transformer les données de manière intelligente pour révéler des informations pertinentes et exploitables par les algorithmes d’apprentissage."
      ],
      "metadata": {
        "id": "6vi2FBwJaRmX"
      }
    },
    {
      "cell_type": "code",
      "source": [
        "\n",
        "df_fe = df_outliers_imputés.copy()\n",
        "\n",
        "#  Création d'un score de confort basé sur les commodités\n",
        "df_fe[\"comfort_score\"] = (df_fe[\"Chauffage\"] + df_fe[\"Climatisation\"] + df_fe[\"Concierge\"]).astype(int)\n",
        "\n",
        "#  Score de standing basé sur équipements de luxe\n",
        "df_fe[\"luxury_score\"] = (df_fe[\"Ascenseur\"] + df_fe[\"Parking\"] + df_fe[\"Terrasse\"]).astype(int)\n",
        "\n",
        "#  Interaction entre variables fortement corrélées\n",
        "df_fe[\"surface_x_rooms\"] = df_fe[\"surface_area\"] * df_fe[\"nb_rooms\"]\n",
        "df_fe[\"surface_per_room\"] = df_fe[\"surface_area\"] / (df_fe[\"nb_rooms\"] + 1)\n",
        "\n",
        "#  Transformation quadratique pour capter des relations non-linéaires\n",
        "df_fe[\"surface_area_squared\"] = df_fe[\"surface_area\"] ** 2\n",
        "df_fe[\"nb_rooms_squared\"] = df_fe[\"nb_rooms\"] ** 2\n",
        "\n",
        "#  Catégorisation du prix (bining)\n",
        "df_fe[\"price_category\"] = pd.cut(df_fe[\"price\"], bins=5, labels=[\"Très bas\", \"Bas\", \"Moyen\", \"Élevé\", \"Très élevé\"])\n",
        "df_fe[\"price_category_encoded\"] = df_fe[\"price_category\"].cat.codes\n",
        "\n",
        "#  Score combiné global de qualité\n",
        "df_fe[\"quality_score\"] = (df_fe[\"comfort_score\"] * 1.5 +\n",
        "                          df_fe[\"luxury_score\"] * 2 +\n",
        "                          df_fe[\"surface_x_rooms\"] * 0.01)\n",
        "\n",
        "print(\" Nouvelles variables créées avec succès\")\n"
      ],
      "metadata": {
        "colab": {
          "base_uri": "https://localhost:8080/"
        },
        "id": "C8UrWGF7IlXi",
        "outputId": "1eabe305-805a-4b18-f864-d8542ed5de9a"
      },
      "execution_count": 27,
      "outputs": [
        {
          "output_type": "stream",
          "name": "stdout",
          "text": [
            " Nouvelles variables créées avec succès\n"
          ]
        }
      ]
    },
    {
      "cell_type": "markdown",
      "source": [
        "- Identifier les variables explicatives les plus influentes sur le prix (corrélation > 0.15)"
      ],
      "metadata": {
        "id": "KhHT3fE4YUcx"
      }
    },
    {
      "cell_type": "code",
      "execution_count": 28,
      "metadata": {
        "colab": {
          "base_uri": "https://localhost:8080/"
        },
        "id": "zvJ7aQi0s-24",
        "outputId": "bd7cc9ca-2118-43c3-b292-1800418e9a0d"
      },
      "outputs": [
        {
          "output_type": "stream",
          "name": "stdout",
          "text": [
            "salon                     0.170595\n",
            "nb_rooms                  0.293186\n",
            "surface_area              0.519679\n",
            "Ascenseur                 0.333753\n",
            "Chauffage                 0.190903\n",
            "Climatisation             0.226307\n",
            "Concierge                 0.214288\n",
            "Parking                   0.243903\n",
            "Terrasse                  0.189927\n",
            "comfort_score             0.265048\n",
            "luxury_score              0.333941\n",
            "surface_x_rooms           0.391176\n",
            "surface_per_room          0.521485\n",
            "surface_area_squared      0.434356\n",
            "nb_rooms_squared          0.269538\n",
            "price_category_encoded    0.964501\n",
            "quality_score             0.345399\n",
            "Name: price, dtype: float64\n"
          ]
        }
      ],
      "source": [
        "df_outliers_imputés=df_fe\n",
        "colonnes_numeriques = df_outliers_imputés.select_dtypes(include=['number'])\n",
        "correlations = colonnes_numeriques.corr()['price'].drop('price')\n",
        "variables_corrélées=correlations[abs(correlations)>0.15]\n",
        "print(variables_corrélées)"
      ]
    },
    {
      "cell_type": "markdown",
      "source": [
        "- Vérification de la redondance entre les variables explicatives sélectionnées\n",
        "\n",
        "\n",
        "\n",
        "*   Visualiser la corrélation entre les variables explicatives sélectionnées\n",
        "\n",
        "\n"
      ],
      "metadata": {
        "id": "ykkJ_8XeYbh-"
      }
    },
    {
      "cell_type": "code",
      "execution_count": 29,
      "metadata": {
        "colab": {
          "base_uri": "https://localhost:8080/",
          "height": 838
        },
        "id": "8mAeUa38tB5b",
        "outputId": "a23dda65-2f36-462f-a3c9-ffdbb817eba4"
      },
      "outputs": [
        {
          "output_type": "display_data",
          "data": {
            "text/plain": [
              "<Figure size 1000x800 with 2 Axes>"
            ],
            "image/png": "[encoded data removed]"
          },
          "metadata": {}
        }
      ],
      "source": [
        "plt.figure(figsize=(10, 8))\n",
        "sns.heatmap(df_outliers_imputés[variables_corrélées.index.tolist()].corr(), annot=True)\n",
        "plt.show()"
      ]
    },
    {
      "cell_type": "markdown",
      "source": [
        "- Sélection des variables explicatives (X) et de la variable cible (Y)\n",
        "Définir manuellement les variables explicatives à conserver (en ignorant certaines comme le chauffage ou la clim qui sont fortement corrélées entre elles afin d’éviter la redondance et le multicolinéarité dans le modèle.)\n",
        "Définir X (features) et Y (target)"
      ],
      "metadata": {
        "id": "M4-4yDvNZBH8"
      }
    },
    {
      "cell_type": "code",
      "execution_count": 30,
      "metadata": {
        "id": "7K-AG1X6tLHd"
      },
      "outputs": [],
      "source": [
        "# variables_corrélées = variables_corrélées[variables_corrélées.index.isin(df_outliers_imputés.columns)]\n",
        "# colonnes_sans_chauffage_ni_climatisation = [\n",
        "#     # 'salon',\n",
        "#     # 'nb_rooms',\n",
        "#     # 'Climatisation',\n",
        "#     'nb_baths',\n",
        "#     'surface_area',\n",
        "#     'Ascenseur',\n",
        "#     'Parking',\n",
        "#     'Terrasse',\n",
        "#     'Chauffage'\n",
        "# ]\n",
        "# X = df_outliers_imputés[colonnes_sans_chauffage_ni_climatisation]\n",
        "# Y = df_outliers_imputés[\"price\"]"
      ]
    },
    {
      "cell_type": "code",
      "source": [
        "# Filtrer les variables corrélées pour ne garder que celles présentes dans df_outliers_imputés\n",
        "\n",
        "# Définir les variables explicatives et la variable cible\n",
        "X = df_outliers_imputés[variables_corrélées.index.drop('Climatisation')]\n",
        "Y = df_outliers_imputés[\"price\"]"
      ],
      "metadata": {
        "id": "sDULCdNFa-k4"
      },
      "execution_count": 31,
      "outputs": []
    },
    {
      "cell_type": "markdown",
      "source": [
        "- Séparation des données en ensembles d'entraînement et de test\n",
        "On divise les données en deux ensembles :\n",
        "\n",
        "1.   Entraînement (80%) : pour entraîner les modèles\n",
        "2.   Test (20%) : pour évaluer la performance des modèles sur des données non vues\n",
        "\n",
        "\n",
        "\n"
      ],
      "metadata": {
        "id": "pAOWqqlzZ0m7"
      }
    },
    {
      "cell_type": "code",
      "execution_count": 32,
      "metadata": {
        "id": "DZZ-uYactRS2"
      },
      "outputs": [],
      "source": [
        "from sklearn.model_selection import train_test_split\n",
        "X_train, X_test, Y_train, Y_test=train_test_split(X, Y, test_size=0.2, random_state=42)"
      ]
    },
    {
      "cell_type": "markdown",
      "source": [
        "- Import des métriques d’évaluation\n",
        "Pour évaluer la performance des modèles de régression, on importe les métriques suivantes :\n",
        "\n",
        "1. Mean Squared Error (MSE) : moyenne des carrés des erreurs (plus elle est faible, mieux c’est)\n",
        "\n",
        "2. Mean Absolute Error (MAE) : moyenne des erreurs absolues\n",
        "\n",
        "3. R² Score : coefficient de détermination, indique la proportion de variance expliquée par le modèle (plus proche de 1, mieux c’est)"
      ],
      "metadata": {
        "id": "aekDBFw6bXdt"
      }
    },
    {
      "cell_type": "code",
      "execution_count": 33,
      "metadata": {
        "id": "h37khWlutw18"
      },
      "outputs": [],
      "source": [
        "from sklearn.metrics import mean_squared_error, mean_absolute_error, r2_score\n"
      ]
    },
    {
      "cell_type": "markdown",
      "source": [
        "- Entraînement et évaluation d’un modèle de Régression Linéaire"
      ],
      "metadata": {
        "id": "lio50h_mb5Tk"
      }
    },
    {
      "cell_type": "code",
      "execution_count": 34,
      "metadata": {
        "colab": {
          "base_uri": "https://localhost:8080/"
        },
        "id": "9l3-qWnwtTdZ",
        "outputId": "b9d48520-cd7a-4a83-b68b-73eab5d91e29"
      },
      "outputs": [
        {
          "output_type": "stream",
          "name": "stdout",
          "text": [
            "LinearRegression:\n",
            "  RMSE: 157895.4184\n",
            "  MAE: 135308.1536\n",
            "  R²: 0.9257\n"
          ]
        }
      ],
      "source": [
        "from sklearn.linear_model import LinearRegression\n",
        "model1=LinearRegression()\n",
        "model1.fit(X_train,Y_train)\n",
        "Y_pred1=model1.predict(X_test)\n",
        "RMSE1 = np.sqrt(mean_squared_error(Y_test, Y_pred1))\n",
        "MAE1=mean_absolute_error(Y_test, Y_pred1)\n",
        "r2_score1=r2_score(Y_test, Y_pred1)\n",
        "# print(\"RMSE of LinearRegression :\",RMSE1,\"MAE of LinearRegression :\" ,MAE1,\"R² of LinearRegression :\",r2_score1)\n",
        "print(f\"LinearRegression:\\n  RMSE: {RMSE1:.4f}\\n  MAE: {MAE1:.4f}\\n  R²: {r2_score1:.4f}\")\n"
      ]
    },
    {
      "cell_type": "markdown",
      "source": [
        "- Entraînement et évaluation d’un modèle de RandomForestRegressor"
      ],
      "metadata": {
        "id": "MGqgKxNJcIsV"
      }
    },
    {
      "cell_type": "code",
      "execution_count": 35,
      "metadata": {
        "colab": {
          "base_uri": "https://localhost:8080/"
        },
        "id": "S4aDKN0cvwD-",
        "outputId": "725fc80f-2c84-47e8-afbe-70c349625ae3"
      },
      "outputs": [
        {
          "output_type": "stream",
          "name": "stdout",
          "text": [
            "\n",
            "RandomForestRegressor:\n",
            "  RMSE: 141638.0996\n",
            "  MAE: 110861.1749\n",
            "  R²: 0.9402\n"
          ]
        }
      ],
      "source": [
        "from sklearn.ensemble import RandomForestRegressor\n",
        "model2 = RandomForestRegressor()\n",
        "model2.fit(X_train, Y_train)\n",
        "Y_pred2 = model2.predict(X_test)\n",
        "RMSE2 = np.sqrt(mean_squared_error(Y_test, Y_pred2))\n",
        "MAE2 = mean_absolute_error(Y_test, Y_pred2)\n",
        "r2_score2 = r2_score(Y_test, Y_pred2)\n",
        "print(f\"\\nRandomForestRegressor:\\n  RMSE: {RMSE2:.4f}\\n  MAE: {MAE2:.4f}\\n  R²: {r2_score2:.4f}\")"
      ]
    },
    {
      "cell_type": "markdown",
      "source": [
        "- Entraînement et évaluation d’un modèle de SVR"
      ],
      "metadata": {
        "id": "ioJe_ZOxcPvu"
      }
    },
    {
      "cell_type": "code",
      "execution_count": 36,
      "metadata": {
        "colab": {
          "base_uri": "https://localhost:8080/"
        },
        "id": "sLRKBzDwvxBH",
        "outputId": "93fd5385-27c6-435b-c7c3-79fc07b08bb9"
      },
      "outputs": [
        {
          "output_type": "stream",
          "name": "stdout",
          "text": [
            "\n",
            "SVR (Support Vector Regressor):\n",
            "  RMSE: 587291.4286\n",
            "  MAE: 448095.8247\n",
            "  R²: -0.0275\n"
          ]
        }
      ],
      "source": [
        "from sklearn.svm import SVR\n",
        "model3 = SVR()\n",
        "model3.fit(X_train, Y_train)\n",
        "Y_pred3 = model3.predict(X_test)\n",
        "RMSE3 = np.sqrt(mean_squared_error(Y_test, Y_pred3))\n",
        "MAE3 = mean_absolute_error(Y_test, Y_pred3)\n",
        "r2_score3 = r2_score(Y_test, Y_pred3)\n",
        "print(f\"\\nSVR (Support Vector Regressor):\\n  RMSE: {RMSE3:.4f}\\n  MAE: {MAE3:.4f}\\n  R²: {r2_score3:.4f}\")\n"
      ]
    },
    {
      "cell_type": "markdown",
      "source": [
        "- Entraînement et évaluation d’un modèle de GradientBoostingRegressor"
      ],
      "metadata": {
        "id": "V0Y4y4Q3cUko"
      }
    },
    {
      "cell_type": "code",
      "execution_count": 37,
      "metadata": {
        "colab": {
          "base_uri": "https://localhost:8080/"
        },
        "id": "hKVsmBvQv3Tx",
        "outputId": "ef8ad41e-27e7-40f9-d8c6-086008139f98"
      },
      "outputs": [
        {
          "output_type": "stream",
          "name": "stdout",
          "text": [
            "\n",
            "GradientBoostingRegressor:\n",
            "  RMSE: 137139.1364\n",
            "  MAE: 112256.6130\n",
            "  R²: 0.9440\n"
          ]
        }
      ],
      "source": [
        "from sklearn.ensemble import GradientBoostingRegressor\n",
        "model4 = GradientBoostingRegressor()\n",
        "model4.fit(X_train, Y_train)\n",
        "Y_pred4 = model4.predict(X_test)\n",
        "RMSE4 = np.sqrt(mean_squared_error(Y_test, Y_pred4))\n",
        "MAE4 = mean_absolute_error(Y_test, Y_pred4)\n",
        "r2_score4 = r2_score(Y_test, Y_pred4)\n",
        "print(f\"\\nGradientBoostingRegressor:\\n  RMSE: {RMSE4:.4f}\\n  MAE: {MAE4:.4f}\\n  R²: {r2_score4:.4f}\")"
      ]
    },
    {
      "cell_type": "markdown",
      "source": [
        "Validation croisée des modèles de régression\n",
        "La validation croisée (cross-validation) permet d’évaluer la performance des modèles sur plusieurs sous-ensembles des données.\n",
        "\n",
        "1. Ici, on utilise 5 plis (cv=5).\n",
        "\n",
        "2. La métrique utilisée est le coefficient de détermination R².\n",
        "\n",
        "3. Cela donne une idée plus fiable de la robustesse des modèles avant de les tester sur un jeu séparé."
      ],
      "metadata": {
        "id": "Y69hHRqMc-I5"
      }
    },
    {
      "cell_type": "code",
      "execution_count": 38,
      "metadata": {
        "colab": {
          "base_uri": "https://localhost:8080/"
        },
        "id": "ydCgtnQnvzoQ",
        "outputId": "d4def6b4-ebb1-4f14-c22a-b6f75d84d052"
      },
      "outputs": [
        {
          "output_type": "stream",
          "name": "stdout",
          "text": [
            "LinearRegression - Scores R² par pli: [0.92669732 0.91490967 0.93659164 0.93821073 0.91751014]\n",
            "LinearRegression - Moyenne R²: 0.9268\n",
            "\n",
            "RandomForestRegressor - Scores R² par pli: [0.93936025 0.91490869 0.94792254 0.94455628 0.91849906]\n",
            "RandomForestRegressor - Moyenne R²: 0.9330\n",
            "\n",
            "SVR - Scores R² par pli: [-0.11533469 -0.03977187 -0.06207765 -0.05051995 -0.00056329]\n",
            "SVR - Moyenne R²: -0.0537\n",
            "\n",
            "GradientBoostingRegressor - Scores R² par pli: [0.94335225 0.93026327 0.94954968 0.95225612 0.9266223 ]\n",
            "GradientBoostingRegressor - Moyenne R²: 0.9404\n",
            "\n"
          ]
        }
      ],
      "source": [
        "from sklearn.model_selection import cross_val_score\n",
        "\n",
        "models = [model1, model2, model3, model4]\n",
        "model_names = [\"LinearRegression\", \"RandomForestRegressor\", \"SVR\", \"GradientBoostingRegressor\"]\n",
        "\n",
        "for name, model in zip(model_names, models):\n",
        "    scores = cross_val_score(model, X, Y, cv=5, scoring='r2')\n",
        "    print(f\"{name} - Scores R² par pli: {scores}\")\n",
        "    print(f\"{name} - Moyenne R²: {scores.mean():.4f}\\n\")\n"
      ]
    },
    {
      "cell_type": "markdown",
      "source": [],
      "metadata": {
        "id": "USskbc83dX_t"
      }
    },
    {
      "cell_type": "code",
      "source": [
        "from sklearn.linear_model import Ridge\n",
        "from sklearn.model_selection import GridSearchCV\n",
        "from sklearn.preprocessing import StandardScaler\n",
        "\n",
        "# 1. Standardiser les données (important pour les modèles linéaires avec régularisation)\n",
        "scaler = StandardScaler()\n",
        "X_scaled = scaler.fit_transform(X_train)\n",
        "\n",
        "# 2. Définir le modèle Ridge\n",
        "ridge = Ridge()\n",
        "\n",
        "# 3. Définir la grille d'hyperparamètres à tester\n",
        "param_grid = {\n",
        "    'alpha': [0.01, 0.1, 1, 10, 100],\n",
        "    'fit_intercept': [True, False]\n",
        "}\n",
        "\n",
        "# 4. Créer l'objet GridSearchCV\n",
        "grid_search = GridSearchCV(estimator=ridge, param_grid=param_grid, cv=5, scoring='neg_mean_squared_error')\n",
        "\n",
        "# 5. Lancer la recherche sur les données d'entraînement\n",
        "grid_search.fit(X_scaled, Y_train)\n",
        "\n",
        "# 6. Résultats\n",
        "print(\"Meilleurs hyperparamètres :\", grid_search.best_params_)\n",
        "print(\"Meilleur score MSE (négatif) :\", grid_search.best_score_)\n",
        "\n",
        "# 7. Prédiction avec le meilleur modèle\n",
        "best_model = grid_search.best_estimator_\n",
        "y_pred = best_model.predict(scaler.transform(X_test))\n",
        "\n",
        "print(\"R² :\", r2_score(Y_test, Y_pred1))\n",
        "print(\"RMSE:\", np.sqrt(mean_squared_error(Y_test, Y_pred1)))\n",
        "print(\"MAE:\", mean_absolute_error(Y_test, Y_pred1))\n",
        "print(\"R²:\", r2_score(Y_test, Y_pred1))"
      ],
      "metadata": {
        "colab": {
          "base_uri": "https://localhost:8080/"
        },
        "id": "fTrzwkr6w0fa",
        "outputId": "38ae3e23-f9fe-4373-c9d1-af8d27c5580a"
      },
      "execution_count": 39,
      "outputs": [
        {
          "output_type": "stream",
          "name": "stdout",
          "text": [
            "Meilleurs hyperparamètres : {'alpha': 10, 'fit_intercept': True}\n",
            "Meilleur score MSE (négatif) : -22000207023.216156\n",
            "R² : 0.9257335338114523\n",
            "RMSE: 157895.41843946994\n",
            "MAE: 135308.15360920964\n",
            "R²: 0.9257335338114523\n"
          ]
        }
      ]
    },
    {
      "cell_type": "code",
      "source": [
        "from sklearn.model_selection import RandomizedSearchCV\n",
        "from sklearn.svm import SVR\n",
        "from sklearn.pipeline import Pipeline\n"
      ],
      "metadata": {
        "id": "9y6RxkGk4yGQ"
      },
      "execution_count": 40,
      "outputs": []
    },
    {
      "cell_type": "code",
      "source": [
        "# Définir le modèle\n",
        "rf = RandomForestRegressor()\n",
        "\n",
        "# Grille des hyperparamètres\n",
        "param_dist_rf = {\n",
        "    'n_estimators': [50, 100, 200],\n",
        "    'max_depth': [None, 10, 20, 30],\n",
        "    'min_samples_split': [2, 5, 10],\n",
        "    'min_samples_leaf': [1, 2, 4],\n",
        "    'max_features': ['sqrt', 'log2', None]\n",
        "}\n",
        "\n",
        "# RandomizedSearchCV\n",
        "search_rf = RandomizedSearchCV(rf, param_distributions=param_dist_rf, n_iter=20, cv=5, scoring='neg_mean_squared_error', random_state=42)\n",
        "search_rf.fit(X_train, Y_train)\n",
        "\n",
        "# Résultats\n",
        "print(\"🔹 Random Forest meilleurs paramètres:\", search_rf.best_params_)\n",
        "Y_pred_rf = search_rf.predict(X_test)\n",
        "print(\"RMSE:\", np.sqrt(mean_squared_error(Y_test, Y_pred_rf)))\n",
        "print(\"MAE:\", mean_absolute_error(Y_test, Y_pred_rf))\n",
        "print(\"R²:\", r2_score(Y_test, Y_pred_rf))"
      ],
      "metadata": {
        "colab": {
          "base_uri": "https://localhost:8080/"
        },
        "id": "aliTjnXy4RMF",
        "outputId": "7ff0865e-cd7c-429e-f356-a5b41a983d47"
      },
      "execution_count": 41,
      "outputs": [
        {
          "output_type": "stream",
          "name": "stdout",
          "text": [
            "🔹 Random Forest meilleurs paramètres: {'n_estimators': 50, 'min_samples_split': 2, 'min_samples_leaf': 2, 'max_features': None, 'max_depth': 10}\n",
            "RMSE: 139805.61108819867\n",
            "MAE: 110009.10159148925\n",
            "R²: 0.941775883573596\n"
          ]
        }
      ]
    },
    {
      "cell_type": "code",
      "source": [
        "# Pipeline = standardisation + SVR\n",
        "pipeline_svr = Pipeline([\n",
        "    ('scaler', StandardScaler()),\n",
        "    ('svr', SVR())\n",
        "])\n",
        "\n",
        "# Grille des hyperparamètres SVR\n",
        "param_dist_svr = {\n",
        "    'svr__C': [0.1, 1, 10, 100],\n",
        "    'svr__epsilon': [0.01, 0.1, 0.2, 0.5],\n",
        "    'svr__kernel': ['rbf', 'linear'],\n",
        "    'svr__gamma': ['scale', 'auto']\n",
        "}\n",
        "\n",
        "# RandomizedSearchCV\n",
        "search_svr = RandomizedSearchCV(pipeline_svr, param_distributions=param_dist_svr, n_iter=20, cv=5, scoring='neg_mean_squared_error', random_state=42)\n",
        "search_svr.fit(X_train, Y_train)\n",
        "\n",
        "# Résultats\n",
        "print(\"🔹 SVR meilleurs paramètres:\", search_svr.best_params_)\n",
        "Y_pred_svr = search_svr.predict(X_test)\n",
        "print(\"RMSE:\", np.sqrt(mean_squared_error(Y_test, Y_pred_svr)))\n",
        "print(\"MAE:\", mean_absolute_error(Y_test, Y_pred_svr))\n",
        "print(\"R²:\", r2_score(Y_test, Y_pred_svr))"
      ],
      "metadata": {
        "colab": {
          "base_uri": "https://localhost:8080/"
        },
        "id": "NOqubk_y4b9J",
        "outputId": "097e6d10-c84c-4306-bd4e-a09a77494b85"
      },
      "execution_count": 42,
      "outputs": [
        {
          "output_type": "stream",
          "name": "stdout",
          "text": [
            "🔹 SVR meilleurs paramètres: {'svr__kernel': 'linear', 'svr__gamma': 'scale', 'svr__epsilon': 0.5, 'svr__C': 100}\n",
            "RMSE: 447667.96863995504\n",
            "MAE: 320727.12175713776\n",
            "R²: 0.40301180350011856\n"
          ]
        }
      ]
    },
    {
      "cell_type": "code",
      "source": [
        "# Modèle\n",
        "gbr = GradientBoostingRegressor()\n",
        "\n",
        "# Grille\n",
        "param_dist_gbr = {\n",
        "    'n_estimators': [100, 200],\n",
        "    'learning_rate': [0.01, 0.05, 0.1],\n",
        "    'max_depth': [3, 5, 7],\n",
        "    'min_samples_split': [2, 5],\n",
        "    'min_samples_leaf': [1, 2],\n",
        "    'subsample': [0.6, 0.8, 1.0]\n",
        "}\n",
        "\n",
        "# RandomizedSearchCV\n",
        "search_gbr = RandomizedSearchCV(gbr, param_distributions=param_dist_gbr, n_iter=20, cv=5, scoring='neg_mean_squared_error', random_state=42)\n",
        "search_gbr.fit(X_train, Y_train)\n",
        "\n",
        "# Résultats\n",
        "print(\"🔹 Gradient Boosting meilleurs paramètres:\", search_gbr.best_params_)\n",
        "Y_pred_gbr = search_gbr.predict(X_test)\n",
        "print(\"R²:\", r2_score(Y_test, Y_pred_gbr))\n",
        "print(\"RMSE:\", np.sqrt(mean_squared_error(Y_test, Y_pred_gbr)))\n",
        "print(\"MAE:\", mean_absolute_error(Y_test, Y_pred_gbr))"
      ],
      "metadata": {
        "colab": {
          "base_uri": "https://localhost:8080/"
        },
        "id": "cTsMmaPn5MjW",
        "outputId": "56fbb139-e6ed-4b8f-952b-0f7e5b10b62e"
      },
      "execution_count": 43,
      "outputs": [
        {
          "output_type": "stream",
          "name": "stdout",
          "text": [
            "🔹 Gradient Boosting meilleurs paramètres: {'subsample': 0.8, 'n_estimators': 100, 'min_samples_split': 2, 'min_samples_leaf': 1, 'max_depth': 3, 'learning_rate': 0.05}\n",
            "R²: 0.944821585004635\n",
            "RMSE: 136099.88536115506\n",
            "MAE: 113105.88535726372\n"
          ]
        }
      ]
    },
    {
      "cell_type": "markdown",
      "source": [
        "**Sauvegarder le modèle entraîné**"
      ],
      "metadata": {
        "id": "DCQ-dZzVGe1e"
      }
    },
    {
      "cell_type": "code",
      "source": [
        "import joblib\n",
        "joblib.dump(gbr, 'model.pkl')"
      ],
      "metadata": {
        "id": "bLPnRk-HGXut",
        "colab": {
          "base_uri": "https://localhost:8080/"
        },
        "outputId": "56ec6383-d71a-4894-b52c-9c4c573377e7"
      },
      "execution_count": 44,
      "outputs": [
        {
          "output_type": "execute_result",
          "data": {
            "text/plain": [
              "['model.pkl']"
            ]
          },
          "metadata": {},
          "execution_count": 44
        }
      ]
    }
  ],
  "metadata": {
    "colab": {
      "provenance": []
    },
    "kernelspec": {
      "display_name": "Python 3",
      "name": "python3"
    },
    "language_info": {
      "name": "python"
    }
  },
  "nbformat": 4,
  "nbformat_minor": 0
}